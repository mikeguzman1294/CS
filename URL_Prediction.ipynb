{
 "cells": [
  {
   "cell_type": "markdown",
   "id": "76op_UM-8kVb",
   "metadata": {
    "id": "76op_UM-8kVb"
   },
   "source": [
    "# Code Challenge - URL Category Prediction\n",
    "***\n",
    "*Author: Miguel Ángel Guzmán Sánchez*\n",
    "***\n",
    "Contact regarding the code: mikeguzman1294@gmail.com\n",
    "***"
   ]
  },
  {
   "cell_type": "markdown",
   "id": "n1RGAh0P52my",
   "metadata": {
    "id": "n1RGAh0P52my"
   },
   "source": [
    "This notebook solves a URL Category Prediction task given 1 tabular dataset.\n",
    "\n",
    "The solution follows a multiclass classification approach.\n",
    "\n",
    "This notebook is divided in 6 main sections.\n",
    "\n",
    "1.   **Environment Setup**\n",
    "2.   **Exploratory Data Analysis**\n",
    "3.   **Data Preprocessing**\n",
    "4.   **Feature Engineering**\n",
    "5.   **Classification Modelling**\n",
    "6.   **Concluding Remarks**\n",
    "\n",
    "A debrief on the entire project intuition, results and discussion is to be found in the Concluding Remarks.\n",
    "\n",
    "A useful introductory resource:\n",
    "\n",
    "* [Mapping Explanation](https://www.youtube.com/watch?v=XuRM4HRNYZA&t=2s)"
   ]
  },
  {
   "cell_type": "markdown",
   "id": "OeX9MJX0bxYk",
   "metadata": {
    "id": "OeX9MJX0bxYk"
   },
   "source": [
    "## Environment Setup"
   ]
  },
  {
   "cell_type": "markdown",
   "id": "u1bImQZfiI70",
   "metadata": {
    "id": "u1bImQZfiI70"
   },
   "source": [
    "### Import Libraries"
   ]
  },
  {
   "cell_type": "markdown",
   "id": "cdXiZNTkKTu3",
   "metadata": {
    "id": "cdXiZNTkKTu3"
   },
   "source": [
    "General Use Libraries"
   ]
  },
  {
   "cell_type": "code",
   "execution_count": 1,
   "id": "MYuMq5RKxNKc",
   "metadata": {
    "id": "MYuMq5RKxNKc"
   },
   "outputs": [],
   "source": [
    "# Import useful libraries\n",
    "\n",
    "import pandas as pd\n",
    "import numpy as np\n",
    "import matplotlib.pyplot as plt\n",
    "from IPython.display import Image"
   ]
  },
  {
   "cell_type": "markdown",
   "id": "qlT9tYH-KW-v",
   "metadata": {
    "id": "qlT9tYH-KW-v"
   },
   "source": [
    "Scikit-Learn Libraries"
   ]
  },
  {
   "cell_type": "code",
   "execution_count": 2,
   "id": "_Kcp5FkUKWiH",
   "metadata": {
    "id": "_Kcp5FkUKWiH"
   },
   "outputs": [],
   "source": [
    "# Data Preprocessing Tools\n",
    "\n",
    "from sklearn.model_selection import train_test_split\n",
    "from sklearn.preprocessing import LabelEncoder\n",
    "from sklearn.preprocessing import StandardScaler\n",
    "from sklearn.feature_extraction.text import CountVectorizer\n",
    "from sklearn.feature_extraction.text import TfidfVectorizer\n",
    "from sklearn.feature_extraction.text import TfidfTransformer"
   ]
  },
  {
   "cell_type": "code",
   "execution_count": 3,
   "id": "bm4ONGkMaiEN",
   "metadata": {
    "id": "bm4ONGkMaiEN"
   },
   "outputs": [],
   "source": [
    "# Predictive Models\n",
    "\n",
    "from sklearn.ensemble import RandomForestClassifier\n",
    "from sklearn.tree import DecisionTreeClassifier\n",
    "\n",
    "# Model Selection\n",
    "\n",
    "from sklearn.model_selection import GridSearchCV"
   ]
  },
  {
   "cell_type": "code",
   "execution_count": 4,
   "id": "f4x2XraOzJLL",
   "metadata": {
    "id": "f4x2XraOzJLL"
   },
   "outputs": [],
   "source": [
    "# Performance Metrics\n",
    "\n",
    "from sklearn.metrics import confusion_matrix, accuracy_score\n",
    "from sklearn.metrics import precision_score, recall_score, f1_score\n",
    "from sklearn.metrics import classification_report, ConfusionMatrixDisplay"
   ]
  },
  {
   "cell_type": "markdown",
   "id": "EnZ-BZqdBATS",
   "metadata": {
    "id": "EnZ-BZqdBATS"
   },
   "source": [
    "NLP Libraries"
   ]
  },
  {
   "cell_type": "code",
   "execution_count": 5,
   "id": "juVrY-cMBClh",
   "metadata": {
    "colab": {
     "base_uri": "https://localhost:8080/"
    },
    "id": "juVrY-cMBClh",
    "outputId": "656d57ec-2664-4f19-d5c9-657ab62b2598"
   },
   "outputs": [
    {
     "name": "stderr",
     "output_type": "stream",
     "text": [
      "[nltk_data] Downloading package stopwords to\n",
      "[nltk_data]     C:\\Users\\653211\\AppData\\Roaming\\nltk_data...\n",
      "[nltk_data]   Package stopwords is already up-to-date!\n"
     ]
    }
   ],
   "source": [
    "# Regular Expressions & NLP Tools\n",
    "\n",
    "import re\n",
    "import nltk\n",
    "nltk.download('stopwords')\n",
    "from nltk.corpus import stopwords\n",
    "from nltk.stem.porter import PorterStemmer"
   ]
  },
  {
   "cell_type": "markdown",
   "id": "K8Ydci-siSU7",
   "metadata": {
    "id": "K8Ydci-siSU7"
   },
   "source": [
    "### Import the Data"
   ]
  },
  {
   "cell_type": "markdown",
   "id": "x3dj7-cdiaoM",
   "metadata": {
    "id": "x3dj7-cdiaoM"
   },
   "source": [
    "Read the dataset file and convert it to a Pandas Dataframe.\n",
    "\n",
    "*dataset.csv* → **DataFrame : raw_df**"
   ]
  },
  {
   "cell_type": "code",
   "execution_count": 6,
   "id": "89MKiS7Xdril",
   "metadata": {
    "id": "89MKiS7Xdril"
   },
   "outputs": [],
   "source": [
    "# Convert the raw data into a Pandas Dataframe\n",
    "\n",
    "raw_df = pd.read_csv('dataset.csv', index_col=0)"
   ]
  },
  {
   "cell_type": "markdown",
   "id": "wx_qCg11dfgd",
   "metadata": {
    "id": "wx_qCg11dfgd"
   },
   "source": [
    "## Exploratory Data Analysis"
   ]
  },
  {
   "cell_type": "markdown",
   "id": "ELHMP-9SoQW-",
   "metadata": {
    "id": "ELHMP-9SoQW-"
   },
   "source": [
    "Explore the first 10 instances of the raw data."
   ]
  },
  {
   "cell_type": "code",
   "execution_count": 7,
   "id": "bxUhxLvdoQ1_",
   "metadata": {
    "colab": {
     "base_uri": "https://localhost:8080/",
     "height": 363
    },
    "id": "bxUhxLvdoQ1_",
    "outputId": "d03dae25-5728-47c5-9906-e3f60ad89c3c"
   },
   "outputs": [
    {
     "data": {
      "text/html": [
       "<div>\n",
       "<style scoped>\n",
       "    .dataframe tbody tr th:only-of-type {\n",
       "        vertical-align: middle;\n",
       "    }\n",
       "\n",
       "    .dataframe tbody tr th {\n",
       "        vertical-align: top;\n",
       "    }\n",
       "\n",
       "    .dataframe thead th {\n",
       "        text-align: right;\n",
       "    }\n",
       "</style>\n",
       "<table border=\"1\" class=\"dataframe\">\n",
       "  <thead>\n",
       "    <tr style=\"text-align: right;\">\n",
       "      <th></th>\n",
       "      <th>url</th>\n",
       "      <th>prefix</th>\n",
       "      <th>category_name</th>\n",
       "    </tr>\n",
       "  </thead>\n",
       "  <tbody>\n",
       "    <tr>\n",
       "      <th>0</th>\n",
       "      <td>https://www.1001pneus.fr/sales/order/view/orde...</td>\n",
       "      <td>www.1001pneus.fr</td>\n",
       "      <td>other</td>\n",
       "    </tr>\n",
       "    <tr>\n",
       "      <th>1</th>\n",
       "      <td>https://www.1001pneus.fr/multishipping/checkou...</td>\n",
       "      <td>www.1001pneus.fr</td>\n",
       "      <td>checkout</td>\n",
       "    </tr>\n",
       "    <tr>\n",
       "      <th>2</th>\n",
       "      <td>https://www.1001pneus.fr/marquage-pneu-sigles?...</td>\n",
       "      <td>www.1001pneus.fr</td>\n",
       "      <td>other</td>\n",
       "    </tr>\n",
       "    <tr>\n",
       "      <th>3</th>\n",
       "      <td>https://www.1001pneus.fr/pneus-auto?diameter=1...</td>\n",
       "      <td>www.1001pneus.fr</td>\n",
       "      <td>search</td>\n",
       "    </tr>\n",
       "    <tr>\n",
       "      <th>4</th>\n",
       "      <td>https://www.1001pneus.fr/pneus-auto/marques-pn...</td>\n",
       "      <td>www.1001pneus.fr</td>\n",
       "      <td>category</td>\n",
       "    </tr>\n",
       "    <tr>\n",
       "      <th>5</th>\n",
       "      <td>https://www.1001pneus.fr/pneus-auto/marques-pn...</td>\n",
       "      <td>www.1001pneus.fr</td>\n",
       "      <td>category</td>\n",
       "    </tr>\n",
       "    <tr>\n",
       "      <th>6</th>\n",
       "      <td>https://www.1001pneus.fr/bridgestone-potenza-s...</td>\n",
       "      <td>www.1001pneus.fr</td>\n",
       "      <td>product</td>\n",
       "    </tr>\n",
       "    <tr>\n",
       "      <th>7</th>\n",
       "      <td>https://www.1001pneus.fr/pneus-auto/marques-pn...</td>\n",
       "      <td>www.1001pneus.fr</td>\n",
       "      <td>category</td>\n",
       "    </tr>\n",
       "    <tr>\n",
       "      <th>8</th>\n",
       "      <td>https://www.1001pneus.fr/pneus-auto/marques-pn...</td>\n",
       "      <td>www.1001pneus.fr</td>\n",
       "      <td>category</td>\n",
       "    </tr>\n",
       "    <tr>\n",
       "      <th>9</th>\n",
       "      <td>https://www.1001pneus.fr/continental-vanco-cam...</td>\n",
       "      <td>www.1001pneus.fr</td>\n",
       "      <td>product</td>\n",
       "    </tr>\n",
       "  </tbody>\n",
       "</table>\n",
       "</div>"
      ],
      "text/plain": [
       "                                                 url            prefix  \\\n",
       "0  https://www.1001pneus.fr/sales/order/view/orde...  www.1001pneus.fr   \n",
       "1  https://www.1001pneus.fr/multishipping/checkou...  www.1001pneus.fr   \n",
       "2  https://www.1001pneus.fr/marquage-pneu-sigles?...  www.1001pneus.fr   \n",
       "3  https://www.1001pneus.fr/pneus-auto?diameter=1...  www.1001pneus.fr   \n",
       "4  https://www.1001pneus.fr/pneus-auto/marques-pn...  www.1001pneus.fr   \n",
       "5  https://www.1001pneus.fr/pneus-auto/marques-pn...  www.1001pneus.fr   \n",
       "6  https://www.1001pneus.fr/bridgestone-potenza-s...  www.1001pneus.fr   \n",
       "7  https://www.1001pneus.fr/pneus-auto/marques-pn...  www.1001pneus.fr   \n",
       "8  https://www.1001pneus.fr/pneus-auto/marques-pn...  www.1001pneus.fr   \n",
       "9  https://www.1001pneus.fr/continental-vanco-cam...  www.1001pneus.fr   \n",
       "\n",
       "  category_name  \n",
       "0         other  \n",
       "1      checkout  \n",
       "2         other  \n",
       "3        search  \n",
       "4      category  \n",
       "5      category  \n",
       "6       product  \n",
       "7      category  \n",
       "8      category  \n",
       "9       product  "
      ]
     },
     "execution_count": 7,
     "metadata": {},
     "output_type": "execute_result"
    }
   ],
   "source": [
    "# Check the head as a sanity check of correct loading of the data\n",
    "raw_df.head(10) # 50"
   ]
  },
  {
   "cell_type": "code",
   "execution_count": 8,
   "id": "eU3EKDOvVTk9",
   "metadata": {
    "colab": {
     "base_uri": "https://localhost:8080/",
     "height": 363
    },
    "id": "eU3EKDOvVTk9",
    "outputId": "cf425fb3-c591-46b1-ecd9-f1745a0a9f4d"
   },
   "outputs": [
    {
     "data": {
      "text/html": [
       "<div>\n",
       "<style scoped>\n",
       "    .dataframe tbody tr th:only-of-type {\n",
       "        vertical-align: middle;\n",
       "    }\n",
       "\n",
       "    .dataframe tbody tr th {\n",
       "        vertical-align: top;\n",
       "    }\n",
       "\n",
       "    .dataframe thead th {\n",
       "        text-align: right;\n",
       "    }\n",
       "</style>\n",
       "<table border=\"1\" class=\"dataframe\">\n",
       "  <thead>\n",
       "    <tr style=\"text-align: right;\">\n",
       "      <th></th>\n",
       "      <th>url</th>\n",
       "      <th>prefix</th>\n",
       "      <th>category_name</th>\n",
       "    </tr>\n",
       "  </thead>\n",
       "  <tbody>\n",
       "    <tr>\n",
       "      <th>54471</th>\n",
       "      <td>https://www.zoro.com/search?amp%3Bcategoryl1=T...</td>\n",
       "      <td>www.zoro.com</td>\n",
       "      <td>search</td>\n",
       "    </tr>\n",
       "    <tr>\n",
       "      <th>54472</th>\n",
       "      <td>https://www.zoro.com/search?categoryl1=Gloves,...</td>\n",
       "      <td>www.zoro.com</td>\n",
       "      <td>search</td>\n",
       "    </tr>\n",
       "    <tr>\n",
       "      <th>54473</th>\n",
       "      <td>https://www.zoro.com/search?page=2&amp;q=plug%20wr...</td>\n",
       "      <td>www.zoro.com</td>\n",
       "      <td>search</td>\n",
       "    </tr>\n",
       "    <tr>\n",
       "      <th>54474</th>\n",
       "      <td>https://www.zoro.com/?id=Header&amp;smtrctid=15242...</td>\n",
       "      <td>www.zoro.com</td>\n",
       "      <td>home</td>\n",
       "    </tr>\n",
       "    <tr>\n",
       "      <th>54475</th>\n",
       "      <td>NaN</td>\n",
       "      <td>www.zoro.com</td>\n",
       "      <td>category</td>\n",
       "    </tr>\n",
       "    <tr>\n",
       "      <th>54476</th>\n",
       "      <td>https://www.zoro.com/?origin=defaultbehavior&amp;s...</td>\n",
       "      <td>www.zoro.com</td>\n",
       "      <td>home</td>\n",
       "    </tr>\n",
       "    <tr>\n",
       "      <th>54477</th>\n",
       "      <td>https://www.zoro.com/paint-mixers/c/5724/?gcli...</td>\n",
       "      <td>www.zoro.com</td>\n",
       "      <td>category</td>\n",
       "    </tr>\n",
       "    <tr>\n",
       "      <th>54478</th>\n",
       "      <td>NaN</td>\n",
       "      <td>NaN</td>\n",
       "      <td>search</td>\n",
       "    </tr>\n",
       "    <tr>\n",
       "      <th>54479</th>\n",
       "      <td>https://www.zoro.com/welding-accessories/c/638...</td>\n",
       "      <td>www.zoro.com</td>\n",
       "      <td>category</td>\n",
       "    </tr>\n",
       "    <tr>\n",
       "      <th>54480</th>\n",
       "      <td>https://www.zoro.com/search?categoryl1=Gloves,...</td>\n",
       "      <td>www.zoro.com</td>\n",
       "      <td>search</td>\n",
       "    </tr>\n",
       "  </tbody>\n",
       "</table>\n",
       "</div>"
      ],
      "text/plain": [
       "                                                     url        prefix  \\\n",
       "54471  https://www.zoro.com/search?amp%3Bcategoryl1=T...  www.zoro.com   \n",
       "54472  https://www.zoro.com/search?categoryl1=Gloves,...  www.zoro.com   \n",
       "54473  https://www.zoro.com/search?page=2&q=plug%20wr...  www.zoro.com   \n",
       "54474  https://www.zoro.com/?id=Header&smtrctid=15242...  www.zoro.com   \n",
       "54475                                                NaN  www.zoro.com   \n",
       "54476  https://www.zoro.com/?origin=defaultbehavior&s...  www.zoro.com   \n",
       "54477  https://www.zoro.com/paint-mixers/c/5724/?gcli...  www.zoro.com   \n",
       "54478                                                NaN           NaN   \n",
       "54479  https://www.zoro.com/welding-accessories/c/638...  www.zoro.com   \n",
       "54480  https://www.zoro.com/search?categoryl1=Gloves,...  www.zoro.com   \n",
       "\n",
       "      category_name  \n",
       "54471        search  \n",
       "54472        search  \n",
       "54473        search  \n",
       "54474          home  \n",
       "54475      category  \n",
       "54476          home  \n",
       "54477      category  \n",
       "54478        search  \n",
       "54479      category  \n",
       "54480        search  "
      ]
     },
     "execution_count": 8,
     "metadata": {},
     "output_type": "execute_result"
    }
   ],
   "source": [
    "# Give a check to the tail as well\n",
    "raw_df.tail(10)"
   ]
  },
  {
   "cell_type": "markdown",
   "id": "fKVoBoUkhu1e",
   "metadata": {
    "id": "fKVoBoUkhu1e"
   },
   "source": [
    "Get an overall insight on the dataframe content."
   ]
  },
  {
   "cell_type": "code",
   "execution_count": 9,
   "id": "ty7MKqUWde-9",
   "metadata": {
    "colab": {
     "base_uri": "https://localhost:8080/"
    },
    "id": "ty7MKqUWde-9",
    "outputId": "387bac0b-a2c0-425e-c44d-d3d3b5f28f8d"
   },
   "outputs": [
    {
     "name": "stdout",
     "output_type": "stream",
     "text": [
      "Dataset shape:\n",
      "(54481, 3)\n",
      "\n",
      "Dataset attributes:\n",
      "Index(['url', 'prefix', 'category_name'], dtype='object')\n",
      "\n",
      "Dataset general information:\n",
      "<class 'pandas.core.frame.DataFrame'>\n",
      "Int64Index: 54481 entries, 0 to 54480\n",
      "Data columns (total 3 columns):\n",
      " #   Column         Non-Null Count  Dtype \n",
      "---  ------         --------------  ----- \n",
      " 0   url            53940 non-null  object\n",
      " 1   prefix         53938 non-null  object\n",
      " 2   category_name  53944 non-null  object\n",
      "dtypes: object(3)\n",
      "memory usage: 1.7+ MB\n",
      "\n",
      "Features insight:\n",
      "               count unique  \\\n",
      "url            53940  53673   \n",
      "prefix         53938    452   \n",
      "category_name  53944     17   \n",
      "\n",
      "                                                             top   freq  \n",
      "url            https://www.feelunique.com/brands/charlotte-ti...      2  \n",
      "prefix                                      www.cortinadecor.com    491  \n",
      "category_name                                            product  20741  \n"
     ]
    }
   ],
   "source": [
    "# Get the shape of the dataframe\n",
    "print(f'Dataset shape:\\n{raw_df.shape}\\n')\n",
    "\n",
    "# Get the names of the attributes\n",
    "print(f'Dataset attributes:\\n{raw_df.columns}\\n')\n",
    "\n",
    "# Get the overall description of the dataset with the data types\n",
    "print('Dataset general information:')\n",
    "raw_df.info()\n",
    "\n",
    "# Get description of attributes\n",
    "print(f'\\nFeatures insight:\\n{raw_df.describe(include = object).transpose()}')"
   ]
  },
  {
   "cell_type": "markdown",
   "id": "2jnUg73nPG49",
   "metadata": {
    "id": "2jnUg73nPG49"
   },
   "source": [
    "Check the unique labels of the dependent variable."
   ]
  },
  {
   "cell_type": "code",
   "execution_count": 10,
   "id": "0BUZJinxPHgw",
   "metadata": {
    "colab": {
     "base_uri": "https://localhost:8080/"
    },
    "id": "0BUZJinxPHgw",
    "outputId": "43aa221d-ac0e-4280-cd3a-864f1dfaceef"
   },
   "outputs": [
    {
     "data": {
      "text/plain": [
       "array(['other', 'checkout', 'search', 'category', 'product', 'home',\n",
       "       'my_account', 'hah? something went wrong!!', 'confirmation', nan,\n",
       "       'cart', 'help_support', 'store_locator', 'information_legals',\n",
       "       'press_news', 'form', 'brand_image', 'favorites_wishlist'],\n",
       "      dtype=object)"
      ]
     },
     "execution_count": 10,
     "metadata": {},
     "output_type": "execute_result"
    }
   ],
   "source": [
    "raw_df.category_name.unique()"
   ]
  },
  {
   "cell_type": "markdown",
   "id": "XzF-gCfmIVCA",
   "metadata": {
    "id": "XzF-gCfmIVCA"
   },
   "source": [
    "Plot the label distribution of the categorical variable to be predicted."
   ]
  },
  {
   "cell_type": "code",
   "execution_count": 11,
   "id": "kbKuoMoOIVhH",
   "metadata": {
    "colab": {
     "base_uri": "https://localhost:8080/",
     "height": 642
    },
    "id": "kbKuoMoOIVhH",
    "outputId": "ac9669cb-5e6c-46aa-c036-66936d63ab3a"
   },
   "outputs": [
    {
     "data": {
      "text/plain": [
       "<AxesSubplot:>"
      ]
     },
     "execution_count": 11,
     "metadata": {},
     "output_type": "execute_result"
    },
    {
     "data": {
      "image/png": "[encoded data removed]",
      "text/plain": [
       "<Figure size 640x480 with 1 Axes>"
      ]
     },
     "metadata": {},
     "output_type": "display_data"
    }
   ],
   "source": [
    "raw_df['category_name'].value_counts(normalize = False).plot.bar()"
   ]
  },
  {
   "cell_type": "markdown",
   "id": "quF9Bx-9jzWh",
   "metadata": {
    "id": "quF9Bx-9jzWh"
   },
   "source": [
    "We can clearly see and **unbalanced class** distribution. We will have to take that into account."
   ]
  },
  {
   "cell_type": "markdown",
   "id": "Zo2DV2QkGNRf",
   "metadata": {
    "id": "Zo2DV2QkGNRf"
   },
   "source": [
    "## Data Preprocessing"
   ]
  },
  {
   "cell_type": "markdown",
   "id": "P7_VmsGEiZef",
   "metadata": {
    "id": "P7_VmsGEiZef"
   },
   "source": [
    "Create copies fo the raw data before making transformations."
   ]
  },
  {
   "cell_type": "code",
   "execution_count": 12,
   "id": "usllYEZvioFm",
   "metadata": {
    "id": "usllYEZvioFm"
   },
   "outputs": [],
   "source": [
    "# Make a copy of the raw datasets to keep the original information untouched\n",
    "df = raw_df.copy()"
   ]
  },
  {
   "cell_type": "markdown",
   "id": "VnZLuY6Ck7PX",
   "metadata": {
    "id": "VnZLuY6Ck7PX"
   },
   "source": [
    "### Duplicated Instances"
   ]
  },
  {
   "cell_type": "markdown",
   "id": "6rNYYAtqw8i6",
   "metadata": {
    "id": "6rNYYAtqw8i6"
   },
   "source": [
    "Check the number of duplicated rows in the DataFrame."
   ]
  },
  {
   "cell_type": "code",
   "execution_count": 13,
   "id": "CUVc82R0k-GP",
   "metadata": {
    "colab": {
     "base_uri": "https://localhost:8080/"
    },
    "id": "CUVc82R0k-GP",
    "outputId": "afc7ef1c-025a-4a36-8ba2-d2504a677655"
   },
   "outputs": [
    {
     "name": "stdout",
     "output_type": "stream",
     "text": [
      "The number of duplicated rows is 176 out of 54481 rows.\n"
     ]
    }
   ],
   "source": [
    "# Print the number of duplicated rows\n",
    "print(f'The number of duplicated rows is {df.duplicated().sum()} out of {df.shape[0]} rows.')"
   ]
  },
  {
   "cell_type": "markdown",
   "id": "_FJcZh2rxFVr",
   "metadata": {
    "id": "_FJcZh2rxFVr"
   },
   "source": [
    "Drop duplicated rows in the DataFrame."
   ]
  },
  {
   "cell_type": "code",
   "execution_count": 14,
   "id": "IGIMn3uRw6pS",
   "metadata": {
    "id": "IGIMn3uRw6pS"
   },
   "outputs": [],
   "source": [
    "# keep = 'first' : Drops duplicates except for the first occurrence.\n",
    "# inplace = True: Modify the DataFrame rather than creating a new one.\n",
    "\n",
    "# Drop duplicated rows\n",
    "df.drop_duplicates(keep='first', inplace=True)"
   ]
  },
  {
   "cell_type": "markdown",
   "id": "1JHmTRyPxB36",
   "metadata": {
    "id": "1JHmTRyPxB36"
   },
   "source": [
    "Re-check the number of duplicated rows in the DataFrame."
   ]
  },
  {
   "cell_type": "code",
   "execution_count": 15,
   "id": "OvBFFn5Ew6sB",
   "metadata": {
    "colab": {
     "base_uri": "https://localhost:8080/"
    },
    "id": "OvBFFn5Ew6sB",
    "outputId": "931180cc-05f1-4973-ce94-a1b486d65e13"
   },
   "outputs": [
    {
     "name": "stdout",
     "output_type": "stream",
     "text": [
      "The number of duplicated rows is 0 out of 54305 rows.\n"
     ]
    }
   ],
   "source": [
    "# Print the number of duplicated rows\n",
    "print(f'The number of duplicated rows is {df.duplicated().sum()} out of {df.shape[0]} rows.')"
   ]
  },
  {
   "cell_type": "markdown",
   "id": "0ezR9FizBxfe",
   "metadata": {
    "id": "0ezR9FizBxfe"
   },
   "source": [
    "### Missing Values"
   ]
  },
  {
   "cell_type": "markdown",
   "id": "mCT-c1hBuaSo",
   "metadata": {
    "id": "mCT-c1hBuaSo"
   },
   "source": [
    "Do a direct call for printing missing values."
   ]
  },
  {
   "cell_type": "code",
   "execution_count": 16,
   "id": "sbLxOUvXvFq_",
   "metadata": {
    "colab": {
     "base_uri": "https://localhost:8080/"
    },
    "id": "sbLxOUvXvFq_",
    "outputId": "97dc5027-e20a-4160-cfd8-c66bd595a09f"
   },
   "outputs": [
    {
     "name": "stdout",
     "output_type": "stream",
     "text": [
      "Percentage of Null Values per Feature\n",
      "url              0.672130\n",
      "prefix           0.999908\n",
      "category_name    0.988859\n",
      "dtype: float64\n",
      "\n",
      "Number of Null Values per Feature\n",
      "url              365\n",
      "prefix           543\n",
      "category_name    537\n",
      "dtype: int64\n"
     ]
    }
   ],
   "source": [
    "# Check for the percentage of missing values per feature\n",
    "print(f'Percentage of Null Values per Feature\\n{(df.isnull().sum() / len(df)) * 100}\\n')\n",
    "\n",
    "print(f'Number of Null Values per Feature\\n{df.isnull().sum()}')"
   ]
  },
  {
   "cell_type": "markdown",
   "id": "WQNysEm2C29M",
   "metadata": {
    "id": "WQNysEm2C29M"
   },
   "source": [
    "For any of the columns, none of missing values percentage surpasses 1%. This is a very low ratio, good news. The absence of any prefix value is irrelevant in the presence of the URL feature since that information can be extracted from the URL. It is also intuitive to think that a prefix information should be irrelevant in the absence of a URL since each domain (corresponding to an online store host name) can potentially present all the possible categories.\n",
    "\n",
    "Consequently, training a predictor to find a relationship between a host name and a category can be misleading and problematic. To cite an example, let's imagine that there is a host name that can have all the possible page categories but its training samples only have one or very few category types available, if the predictor uses the host name as a feature it may be biased to associate the delivered category samples to a given host name."
   ]
  },
  {
   "cell_type": "markdown",
   "id": "bDnuPJLOE-w4",
   "metadata": {
    "id": "bDnuPJLOE-w4"
   },
   "source": [
    "Let's filter the DataFrame checking only for missing values for the URL and labels now."
   ]
  },
  {
   "cell_type": "code",
   "execution_count": 17,
   "id": "3pnECBSRB1Yz",
   "metadata": {
    "colab": {
     "base_uri": "https://localhost:8080/",
     "height": 533
    },
    "id": "3pnECBSRB1Yz",
    "outputId": "37d29439-30e2-4598-e5a3-8cd6a89cd0c1"
   },
   "outputs": [
    {
     "name": "stdout",
     "output_type": "stream",
     "text": [
      "Number of Rows with any kind of missing value: 1429\n",
      "\n",
      "Number of Rows with either a missing URL or label: 899\n",
      "\n",
      "Percentage of Rows with either a missing URL or label: 1.6554645060307522\n",
      "\n"
     ]
    },
    {
     "data": {
      "text/html": [
       "<div>\n",
       "<style scoped>\n",
       "    .dataframe tbody tr th:only-of-type {\n",
       "        vertical-align: middle;\n",
       "    }\n",
       "\n",
       "    .dataframe tbody tr th {\n",
       "        vertical-align: top;\n",
       "    }\n",
       "\n",
       "    .dataframe thead th {\n",
       "        text-align: right;\n",
       "    }\n",
       "</style>\n",
       "<table border=\"1\" class=\"dataframe\">\n",
       "  <thead>\n",
       "    <tr style=\"text-align: right;\">\n",
       "      <th></th>\n",
       "      <th>url</th>\n",
       "      <th>prefix</th>\n",
       "      <th>category_name</th>\n",
       "    </tr>\n",
       "  </thead>\n",
       "  <tbody>\n",
       "    <tr>\n",
       "      <th>19</th>\n",
       "      <td>NaN</td>\n",
       "      <td>www.1001pneus.fr</td>\n",
       "      <td>product</td>\n",
       "    </tr>\n",
       "    <tr>\n",
       "      <th>99</th>\n",
       "      <td>https://www.1001pneus.fr/insa-turbo-ranger-245...</td>\n",
       "      <td>www.1001pneus.fr</td>\n",
       "      <td>NaN</td>\n",
       "    </tr>\n",
       "    <tr>\n",
       "      <th>108</th>\n",
       "      <td>NaN</td>\n",
       "      <td>www.1001pneus.fr</td>\n",
       "      <td>category</td>\n",
       "    </tr>\n",
       "    <tr>\n",
       "      <th>145</th>\n",
       "      <td>https://www.1001pneus.fr/customer/address/?||c...</td>\n",
       "      <td>www.1001pneus.fr</td>\n",
       "      <td>NaN</td>\n",
       "    </tr>\n",
       "    <tr>\n",
       "      <th>192</th>\n",
       "      <td>https://www.1001pneus.fr/?||currentStore&lt;Frenc...</td>\n",
       "      <td>www.1001pneus.fr</td>\n",
       "      <td>NaN</td>\n",
       "    </tr>\n",
       "    <tr>\n",
       "      <th>...</th>\n",
       "      <td>...</td>\n",
       "      <td>...</td>\n",
       "      <td>...</td>\n",
       "    </tr>\n",
       "    <tr>\n",
       "      <th>54280</th>\n",
       "      <td>NaN</td>\n",
       "      <td>www.zoro.com</td>\n",
       "      <td>search</td>\n",
       "    </tr>\n",
       "    <tr>\n",
       "      <th>54305</th>\n",
       "      <td>https://www.zoro.com/oil-dri-maintenance-absor...</td>\n",
       "      <td>www.zoro.com</td>\n",
       "      <td>NaN</td>\n",
       "    </tr>\n",
       "    <tr>\n",
       "      <th>54347</th>\n",
       "      <td>NaN</td>\n",
       "      <td>www.zoro.com</td>\n",
       "      <td>category</td>\n",
       "    </tr>\n",
       "    <tr>\n",
       "      <th>54435</th>\n",
       "      <td>https://www.zoro.com/advanced-drainage-systems...</td>\n",
       "      <td>www.zoro.com</td>\n",
       "      <td>NaN</td>\n",
       "    </tr>\n",
       "    <tr>\n",
       "      <th>54478</th>\n",
       "      <td>NaN</td>\n",
       "      <td>NaN</td>\n",
       "      <td>search</td>\n",
       "    </tr>\n",
       "  </tbody>\n",
       "</table>\n",
       "<p>899 rows × 3 columns</p>\n",
       "</div>"
      ],
      "text/plain": [
       "                                                     url            prefix  \\\n",
       "19                                                   NaN  www.1001pneus.fr   \n",
       "99     https://www.1001pneus.fr/insa-turbo-ranger-245...  www.1001pneus.fr   \n",
       "108                                                  NaN  www.1001pneus.fr   \n",
       "145    https://www.1001pneus.fr/customer/address/?||c...  www.1001pneus.fr   \n",
       "192    https://www.1001pneus.fr/?||currentStore<Frenc...  www.1001pneus.fr   \n",
       "...                                                  ...               ...   \n",
       "54280                                                NaN      www.zoro.com   \n",
       "54305  https://www.zoro.com/oil-dri-maintenance-absor...      www.zoro.com   \n",
       "54347                                                NaN      www.zoro.com   \n",
       "54435  https://www.zoro.com/advanced-drainage-systems...      www.zoro.com   \n",
       "54478                                                NaN               NaN   \n",
       "\n",
       "      category_name  \n",
       "19          product  \n",
       "99              NaN  \n",
       "108        category  \n",
       "145             NaN  \n",
       "192             NaN  \n",
       "...             ...  \n",
       "54280        search  \n",
       "54305           NaN  \n",
       "54347      category  \n",
       "54435           NaN  \n",
       "54478        search  \n",
       "\n",
       "[899 rows x 3 columns]"
      ]
     },
     "execution_count": 17,
     "metadata": {},
     "output_type": "execute_result"
    }
   ],
   "source": [
    "# Get number of rows without url or label\n",
    "no_url_label = df[['url', 'category_name']].isna().any(axis=1).sum()\n",
    "print(f'Number of Rows with any kind of missing value: {df.isna().any(axis=1).sum()}\\n')\n",
    "print(f'Number of Rows with either a missing URL or label: {no_url_label}\\n')\n",
    "print(f'Percentage of Rows with either a missing URL or label: {(no_url_label / len(df))*100}\\n')\n",
    "\n",
    "# Filter the DataFrame for correctness\n",
    "df[df[['url', 'category_name']].isna().any(axis=1)]"
   ]
  },
  {
   "cell_type": "markdown",
   "id": "Vw5DOyUZJYxl",
   "metadata": {
    "id": "Vw5DOyUZJYxl"
   },
   "source": [
    "The percentage of rows intersecting the missing values of URLs and labels is of 1.65 %, which is still very low.\n",
    "\n",
    "We will drop all these rows given the previously stated reasons."
   ]
  },
  {
   "cell_type": "code",
   "execution_count": 18,
   "id": "-nZVddUtJvno",
   "metadata": {
    "colab": {
     "base_uri": "https://localhost:8080/",
     "height": 423
    },
    "id": "-nZVddUtJvno",
    "outputId": "13397b04-8102-466c-c7f1-01e66d8c39b7"
   },
   "outputs": [
    {
     "data": {
      "text/html": [
       "<div>\n",
       "<style scoped>\n",
       "    .dataframe tbody tr th:only-of-type {\n",
       "        vertical-align: middle;\n",
       "    }\n",
       "\n",
       "    .dataframe tbody tr th {\n",
       "        vertical-align: top;\n",
       "    }\n",
       "\n",
       "    .dataframe thead th {\n",
       "        text-align: right;\n",
       "    }\n",
       "</style>\n",
       "<table border=\"1\" class=\"dataframe\">\n",
       "  <thead>\n",
       "    <tr style=\"text-align: right;\">\n",
       "      <th></th>\n",
       "      <th>url</th>\n",
       "      <th>prefix</th>\n",
       "      <th>category_name</th>\n",
       "    </tr>\n",
       "  </thead>\n",
       "  <tbody>\n",
       "    <tr>\n",
       "      <th>0</th>\n",
       "      <td>https://www.1001pneus.fr/sales/order/view/orde...</td>\n",
       "      <td>www.1001pneus.fr</td>\n",
       "      <td>other</td>\n",
       "    </tr>\n",
       "    <tr>\n",
       "      <th>1</th>\n",
       "      <td>https://www.1001pneus.fr/multishipping/checkou...</td>\n",
       "      <td>www.1001pneus.fr</td>\n",
       "      <td>checkout</td>\n",
       "    </tr>\n",
       "    <tr>\n",
       "      <th>2</th>\n",
       "      <td>https://www.1001pneus.fr/marquage-pneu-sigles?...</td>\n",
       "      <td>www.1001pneus.fr</td>\n",
       "      <td>other</td>\n",
       "    </tr>\n",
       "    <tr>\n",
       "      <th>3</th>\n",
       "      <td>https://www.1001pneus.fr/pneus-auto?diameter=1...</td>\n",
       "      <td>www.1001pneus.fr</td>\n",
       "      <td>search</td>\n",
       "    </tr>\n",
       "    <tr>\n",
       "      <th>4</th>\n",
       "      <td>https://www.1001pneus.fr/pneus-auto/marques-pn...</td>\n",
       "      <td>www.1001pneus.fr</td>\n",
       "      <td>category</td>\n",
       "    </tr>\n",
       "    <tr>\n",
       "      <th>...</th>\n",
       "      <td>...</td>\n",
       "      <td>...</td>\n",
       "      <td>...</td>\n",
       "    </tr>\n",
       "    <tr>\n",
       "      <th>54474</th>\n",
       "      <td>https://www.zoro.com/?id=Header&amp;smtrctid=15242...</td>\n",
       "      <td>www.zoro.com</td>\n",
       "      <td>home</td>\n",
       "    </tr>\n",
       "    <tr>\n",
       "      <th>54476</th>\n",
       "      <td>https://www.zoro.com/?origin=defaultbehavior&amp;s...</td>\n",
       "      <td>www.zoro.com</td>\n",
       "      <td>home</td>\n",
       "    </tr>\n",
       "    <tr>\n",
       "      <th>54477</th>\n",
       "      <td>https://www.zoro.com/paint-mixers/c/5724/?gcli...</td>\n",
       "      <td>www.zoro.com</td>\n",
       "      <td>category</td>\n",
       "    </tr>\n",
       "    <tr>\n",
       "      <th>54479</th>\n",
       "      <td>https://www.zoro.com/welding-accessories/c/638...</td>\n",
       "      <td>www.zoro.com</td>\n",
       "      <td>category</td>\n",
       "    </tr>\n",
       "    <tr>\n",
       "      <th>54480</th>\n",
       "      <td>https://www.zoro.com/search?categoryl1=Gloves,...</td>\n",
       "      <td>www.zoro.com</td>\n",
       "      <td>search</td>\n",
       "    </tr>\n",
       "  </tbody>\n",
       "</table>\n",
       "<p>53406 rows × 3 columns</p>\n",
       "</div>"
      ],
      "text/plain": [
       "                                                     url            prefix  \\\n",
       "0      https://www.1001pneus.fr/sales/order/view/orde...  www.1001pneus.fr   \n",
       "1      https://www.1001pneus.fr/multishipping/checkou...  www.1001pneus.fr   \n",
       "2      https://www.1001pneus.fr/marquage-pneu-sigles?...  www.1001pneus.fr   \n",
       "3      https://www.1001pneus.fr/pneus-auto?diameter=1...  www.1001pneus.fr   \n",
       "4      https://www.1001pneus.fr/pneus-auto/marques-pn...  www.1001pneus.fr   \n",
       "...                                                  ...               ...   \n",
       "54474  https://www.zoro.com/?id=Header&smtrctid=15242...      www.zoro.com   \n",
       "54476  https://www.zoro.com/?origin=defaultbehavior&s...      www.zoro.com   \n",
       "54477  https://www.zoro.com/paint-mixers/c/5724/?gcli...      www.zoro.com   \n",
       "54479  https://www.zoro.com/welding-accessories/c/638...      www.zoro.com   \n",
       "54480  https://www.zoro.com/search?categoryl1=Gloves,...      www.zoro.com   \n",
       "\n",
       "      category_name  \n",
       "0             other  \n",
       "1          checkout  \n",
       "2             other  \n",
       "3            search  \n",
       "4          category  \n",
       "...             ...  \n",
       "54474          home  \n",
       "54476          home  \n",
       "54477      category  \n",
       "54479      category  \n",
       "54480        search  \n",
       "\n",
       "[53406 rows x 3 columns]"
      ]
     },
     "execution_count": 18,
     "metadata": {},
     "output_type": "execute_result"
    }
   ],
   "source": [
    "# Drop rows with either a missing value of URL or label\n",
    "#df = df.dropna(subset=['url', 'category_name'])\n",
    "df.dropna(subset=['url', 'category_name'], inplace=True)\n",
    "df"
   ]
  },
  {
   "cell_type": "markdown",
   "id": "CqPOlB-ulDtN",
   "metadata": {
    "id": "CqPOlB-ulDtN"
   },
   "source": [
    "Now we will filter for the remaining rows with missing values."
   ]
  },
  {
   "cell_type": "code",
   "execution_count": 19,
   "id": "PPkeuuN7Ljfx",
   "metadata": {
    "colab": {
     "base_uri": "https://localhost:8080/",
     "height": 460
    },
    "id": "PPkeuuN7Ljfx",
    "outputId": "cdd2d2d4-9bb8-441c-9a77-61b3c83b08cd"
   },
   "outputs": [
    {
     "name": "stdout",
     "output_type": "stream",
     "text": [
      "Number of Rows with any kind of missing value: 530\n",
      "\n"
     ]
    },
    {
     "data": {
      "text/html": [
       "<div>\n",
       "<style scoped>\n",
       "    .dataframe tbody tr th:only-of-type {\n",
       "        vertical-align: middle;\n",
       "    }\n",
       "\n",
       "    .dataframe tbody tr th {\n",
       "        vertical-align: top;\n",
       "    }\n",
       "\n",
       "    .dataframe thead th {\n",
       "        text-align: right;\n",
       "    }\n",
       "</style>\n",
       "<table border=\"1\" class=\"dataframe\">\n",
       "  <thead>\n",
       "    <tr style=\"text-align: right;\">\n",
       "      <th></th>\n",
       "      <th>url</th>\n",
       "      <th>prefix</th>\n",
       "      <th>category_name</th>\n",
       "    </tr>\n",
       "  </thead>\n",
       "  <tbody>\n",
       "    <tr>\n",
       "      <th>37</th>\n",
       "      <td>https://www.1001pneus.fr/pneus-auto/pneus-4x4-...</td>\n",
       "      <td>NaN</td>\n",
       "      <td>search</td>\n",
       "    </tr>\n",
       "    <tr>\n",
       "      <th>112</th>\n",
       "      <td>https://www.1001pneus.fr/pneus-auto?diameter=1...</td>\n",
       "      <td>NaN</td>\n",
       "      <td>search</td>\n",
       "    </tr>\n",
       "    <tr>\n",
       "      <th>171</th>\n",
       "      <td>https://www.1001pneus.fr/pneus-auto?diameter=1...</td>\n",
       "      <td>NaN</td>\n",
       "      <td>search</td>\n",
       "    </tr>\n",
       "    <tr>\n",
       "      <th>232</th>\n",
       "      <td>https://www.1001pneus.fr/checkout/cart/?||curr...</td>\n",
       "      <td>NaN</td>\n",
       "      <td>cart</td>\n",
       "    </tr>\n",
       "    <tr>\n",
       "      <th>260</th>\n",
       "      <td>https://www.1001pneus.fr/pneus-auto?brand%5B%5...</td>\n",
       "      <td>NaN</td>\n",
       "      <td>search</td>\n",
       "    </tr>\n",
       "    <tr>\n",
       "      <th>...</th>\n",
       "      <td>...</td>\n",
       "      <td>...</td>\n",
       "      <td>...</td>\n",
       "    </tr>\n",
       "    <tr>\n",
       "      <th>53987</th>\n",
       "      <td>https://www.zennioptical.com/b/teen-guys-glass...</td>\n",
       "      <td>NaN</td>\n",
       "      <td>category</td>\n",
       "    </tr>\n",
       "    <tr>\n",
       "      <th>54043</th>\n",
       "      <td>https://www.zennioptical.com/?gclid=CM2Gr7HJlO...</td>\n",
       "      <td>NaN</td>\n",
       "      <td>home</td>\n",
       "    </tr>\n",
       "    <tr>\n",
       "      <th>54156</th>\n",
       "      <td>https://www.zennioptical.com/orderGlasses?cs-o...</td>\n",
       "      <td>NaN</td>\n",
       "      <td>cart</td>\n",
       "    </tr>\n",
       "    <tr>\n",
       "      <th>54288</th>\n",
       "      <td>https://www.zoro.com/search?q=limited-time%20d...</td>\n",
       "      <td>NaN</td>\n",
       "      <td>search</td>\n",
       "    </tr>\n",
       "    <tr>\n",
       "      <th>54375</th>\n",
       "      <td>https://www.zoro.com/search?categoryl1=Hydraul...</td>\n",
       "      <td>NaN</td>\n",
       "      <td>search</td>\n",
       "    </tr>\n",
       "  </tbody>\n",
       "</table>\n",
       "<p>530 rows × 3 columns</p>\n",
       "</div>"
      ],
      "text/plain": [
       "                                                     url prefix category_name\n",
       "37     https://www.1001pneus.fr/pneus-auto/pneus-4x4-...    NaN        search\n",
       "112    https://www.1001pneus.fr/pneus-auto?diameter=1...    NaN        search\n",
       "171    https://www.1001pneus.fr/pneus-auto?diameter=1...    NaN        search\n",
       "232    https://www.1001pneus.fr/checkout/cart/?||curr...    NaN          cart\n",
       "260    https://www.1001pneus.fr/pneus-auto?brand%5B%5...    NaN        search\n",
       "...                                                  ...    ...           ...\n",
       "53987  https://www.zennioptical.com/b/teen-guys-glass...    NaN      category\n",
       "54043  https://www.zennioptical.com/?gclid=CM2Gr7HJlO...    NaN          home\n",
       "54156  https://www.zennioptical.com/orderGlasses?cs-o...    NaN          cart\n",
       "54288  https://www.zoro.com/search?q=limited-time%20d...    NaN        search\n",
       "54375  https://www.zoro.com/search?categoryl1=Hydraul...    NaN        search\n",
       "\n",
       "[530 rows x 3 columns]"
      ]
     },
     "execution_count": 19,
     "metadata": {},
     "output_type": "execute_result"
    }
   ],
   "source": [
    "# Print the number of rows with any missing value after dropping the ones with missing URL or label\n",
    "print(f'Number of Rows with any kind of missing value: {df.isna().any(axis=1).sum()}\\n')\n",
    "\n",
    "# Get an insight of rows containing missing values - should only be missing prefixes\n",
    "df[df.isna().any(axis=1)]"
   ]
  },
  {
   "cell_type": "markdown",
   "id": "UfVvy_XZN-Vk",
   "metadata": {
    "id": "UfVvy_XZN-Vk"
   },
   "source": [
    "After dropping the rows with missing URL/label values, we still have 530 rows with missing values corresponding to the rows with missing only the prefix. We **definitely** want to keep these rows. Even though that we won't use the host name as a feature for our predictors, it would be nice to fill that column to have a cleaner DataFrame and to simplify the feature extraction process in the next section."
   ]
  },
  {
   "cell_type": "code",
   "execution_count": 20,
   "id": "J0zyZR2uM84V",
   "metadata": {
    "colab": {
     "base_uri": "https://localhost:8080/"
    },
    "id": "J0zyZR2uM84V",
    "outputId": "fa51b7f2-3f14-4266-f8df-b21c3d0c77b5"
   },
   "outputs": [
    {
     "name": "stdout",
     "output_type": "stream",
     "text": [
      "Sample URL:\n",
      "https://www.zoro.com/paint-mixers/c/5724/?gclid=bbaf471f1b4d10010ebf272925b0d3a3&gclsrc=3p.ds&msclkid=bbaf471f1b4d10010ebf272925b0d3a3&page=2&utm_campaign=DSA%20Manual&utm_content=Cutting,%20holemaking%20%26%20shaping%20tools&utm_medium=cpc&utm_source=bing&utm_term=Drum%20Mixers||Page Category 1<Paint, Coatings & Supplies~Page Category 2<Painting Supplies and Equipment~Page Category 3<Paint Mixers~Page Type<category\n"
     ]
    }
   ],
   "source": [
    "# We index a sample URL to test a function to fill the missing prefix values\n",
    "sample_url = df.at[54477, \"url\"]\n",
    "print(f'Sample URL:\\n{sample_url}')"
   ]
  },
  {
   "cell_type": "code",
   "execution_count": 21,
   "id": "YLoWoU7LO1ks",
   "metadata": {
    "colab": {
     "base_uri": "https://localhost:8080/"
    },
    "id": "YLoWoU7LO1ks",
    "outputId": "967690a6-6aed-4a0c-ea84-bb12a54a2aa5"
   },
   "outputs": [
    {
     "name": "stdout",
     "output_type": "stream",
     "text": [
      "Prefix:\n",
      "www.zoro.com\n"
     ]
    }
   ],
   "source": [
    "# Extract the path of the URL\n",
    "prefix = sample_url.split(\"?\")[0].split('://')[1].split('/')[0]\n",
    "print(f'Prefix:\\n{prefix}')"
   ]
  },
  {
   "cell_type": "markdown",
   "id": "H2XVSfnwgFVA",
   "metadata": {
    "id": "H2XVSfnwgFVA"
   },
   "source": [
    "We fill all the missing prefixes with the URL data."
   ]
  },
  {
   "cell_type": "code",
   "execution_count": 22,
   "id": "RJloWKEiTW4A",
   "metadata": {
    "id": "RJloWKEiTW4A"
   },
   "outputs": [],
   "source": [
    "# Traverse all dataframes rows and if prefix is missing, extract it from the URL\n",
    "for index, row in df.iterrows() :\n",
    "  if pd.isna(row['prefix']) :\n",
    "    row['prefix'] = row['url'].split(\"?\")[0].split('://')[1].split('/')[0]"
   ]
  },
  {
   "cell_type": "markdown",
   "id": "w7ij-KFlhJp1",
   "metadata": {
    "id": "w7ij-KFlhJp1"
   },
   "source": [
    "As a sanity check, we look for the original number of unique prefixes (excluding NaN) and the unique values of the transformed dataframe without missing values. This way me make sure we did not commit any catastrophic error while parsing and processing the URLs."
   ]
  },
  {
   "cell_type": "code",
   "execution_count": 23,
   "id": "lkbwkkhHdG27",
   "metadata": {
    "colab": {
     "base_uri": "https://localhost:8080/"
    },
    "id": "lkbwkkhHdG27",
    "outputId": "88c2bca1-77cc-4a27-d6f0-c9c0da1b2e36"
   },
   "outputs": [
    {
     "name": "stdout",
     "output_type": "stream",
     "text": [
      "Unique prefixes in raw data 452\n",
      "Unique prefixes in transformed dataframe with no null values: 450\n"
     ]
    }
   ],
   "source": [
    "print(f'Unique prefixes in raw data {len(raw_df.prefix.unique())-1}')\n",
    "print(f'Unique prefixes in transformed dataframe with no null values: {len(df.prefix.unique())}')"
   ]
  },
  {
   "cell_type": "markdown",
   "id": "XlJNVML4h39A",
   "metadata": {
    "id": "XlJNVML4h39A"
   },
   "source": [
    "It appears that there were some rows containing 2 unique prefixes with no associated couple of (URL, label)."
   ]
  },
  {
   "cell_type": "markdown",
   "id": "921wiBO3gfuI",
   "metadata": {
    "id": "921wiBO3gfuI"
   },
   "source": [
    "Do a direct call for missing values. There shouldn't be any by now."
   ]
  },
  {
   "cell_type": "code",
   "execution_count": 24,
   "id": "sRaG77ofgfuJ",
   "metadata": {
    "colab": {
     "base_uri": "https://localhost:8080/"
    },
    "id": "sRaG77ofgfuJ",
    "outputId": "619fa078-ce29-421f-8b34-06bd7e9158ea"
   },
   "outputs": [
    {
     "name": "stdout",
     "output_type": "stream",
     "text": [
      "Percentage of Null Values per Feature\n",
      "url              0.0\n",
      "prefix           0.0\n",
      "category_name    0.0\n",
      "dtype: float64\n",
      "\n",
      "Number of Null Values per Feature\n",
      "url              0\n",
      "prefix           0\n",
      "category_name    0\n",
      "dtype: int64\n"
     ]
    }
   ],
   "source": [
    "# Check for the percentage of missing values per feature\n",
    "print(f'Percentage of Null Values per Feature\\n{(df.isnull().sum() / len(df)) * 100}\\n')\n",
    "\n",
    "print(f'Number of Null Values per Feature\\n{df.isnull().sum()}')"
   ]
  },
  {
   "cell_type": "markdown",
   "id": "1n26ltHOvP2i",
   "metadata": {
    "id": "1n26ltHOvP2i"
   },
   "source": [
    "## Feature Engineering"
   ]
  },
  {
   "cell_type": "markdown",
   "id": "18e55df6",
   "metadata": {
    "id": "18e55df6"
   },
   "source": [
    "### Parse URLs\n",
    "\n",
    "In this subsection the URLs are parsed in order to extract their components and create features upon them."
   ]
  },
  {
   "cell_type": "markdown",
   "id": "9655e170",
   "metadata": {
    "id": "9655e170"
   },
   "source": [
    "The URL format is the following :\n",
    "\n",
    "`{schema}+{prefix}+{path}?{query}||{custom_variables}`\n",
    "\n",
    "A more comprehensive schema of a generic URL anatomy is displayed next: (excluding custom variables)"
   ]
  },
  {
   "cell_type": "code",
   "execution_count": 25,
   "id": "ZdABPvwTyiFt",
   "metadata": {
    "colab": {
     "base_uri": "https://localhost:8080/",
     "height": 230
    },
    "id": "ZdABPvwTyiFt",
    "outputId": "b2687bd0-66c4-4a98-80c3-e8cb273ed1d3"
   },
   "outputs": [
    {
     "data": {
      "image/png": "[encoded data removed]",
      "text/plain": [
       "<IPython.core.display.Image object>"
      ]
     },
     "execution_count": 25,
     "metadata": {
      "image/png": {
       "width": 640
      }
     },
     "output_type": "execute_result"
    }
   ],
   "source": [
    "Image(\"URL.png\" , width=640)"
   ]
  },
  {
   "cell_type": "markdown",
   "id": "2xOp9om30RdU",
   "metadata": {
    "id": "2xOp9om30RdU"
   },
   "source": [
    "**URL Query Operators**\n",
    "\n",
    "The following signs belong to the syntax of query strings/URL variables.\n",
    "\n",
    "* '?' : The question mark identifies the beginning of the query string and must be placed at the end of the link, before the contents of the query string.\n",
    "* & : The ampersand is used before each subsequent query parameter name/value pair in the query string.\n",
    "* = : The equals sign separates the query parameter name from the value assigned to that name.\n",
    "* || : This symbol marks the beginning of the custom variables section.\n",
    "* ~ : This symbol is used before each subsequent custom variable/value pair in the custom variable section.\n",
    "* < : This sign sign separates the custom variable from the value assigned to that custom variable.\n",
    "\n",
    "[Source](https://help.alchemer.com/help/url-variables)"
   ]
  },
  {
   "cell_type": "markdown",
   "id": "tpa2rHFyRBIH",
   "metadata": {
    "id": "tpa2rHFyRBIH"
   },
   "source": [
    "Let's get an insight on the features of a sample instance: **URL** & **prefix**"
   ]
  },
  {
   "cell_type": "code",
   "execution_count": 26,
   "id": "b7020f5b",
   "metadata": {
    "colab": {
     "base_uri": "https://localhost:8080/"
    },
    "id": "b7020f5b",
    "outputId": "a518583d-8d86-4362-e6e0-4b1950db7a9c"
   },
   "outputs": [
    {
     "name": "stdout",
     "output_type": "stream",
     "text": [
      "Sample URL:\n",
      "https://www.zoro.com/paint-mixers/c/5724/?gclid=bbaf471f1b4d10010ebf272925b0d3a3&gclsrc=3p.ds&msclkid=bbaf471f1b4d10010ebf272925b0d3a3&page=2&utm_campaign=DSA%20Manual&utm_content=Cutting,%20holemaking%20%26%20shaping%20tools&utm_medium=cpc&utm_source=bing&utm_term=Drum%20Mixers||Page Category 1<Paint, Coatings & Supplies~Page Category 2<Painting Supplies and Equipment~Page Category 3<Paint Mixers~Page Type<category\n",
      "\n",
      "Sample Prefix (Host):\n",
      "www.zoro.com\n",
      "\n",
      "Sample Category:\n",
      "category\n"
     ]
    }
   ],
   "source": [
    "# Select a sample instance URL and prefix from the Dataframe\n",
    "sample_url, sample_prefix, sample_category = df.loc[54477, [\"url\", \"prefix\",\"category_name\"]] # 54477 - 39081\n",
    "\n",
    "# Print the Features\n",
    "print(f'Sample URL:\\n{sample_url}\\n\\nSample Prefix (Host):\\n{sample_prefix}\\n\\nSample Category:\\n{sample_category}')"
   ]
  },
  {
   "cell_type": "markdown",
   "id": "Ij9uKYQsReEN",
   "metadata": {
    "id": "Ij9uKYQsReEN"
   },
   "source": [
    "From the sample instance selected above we extract its main sections: **Path**, **Query** string and **Custom Variables** strings"
   ]
  },
  {
   "cell_type": "code",
   "execution_count": 27,
   "id": "FnZQvT14K7oP",
   "metadata": {
    "colab": {
     "base_uri": "https://localhost:8080/"
    },
    "id": "FnZQvT14K7oP",
    "outputId": "380d7187-649b-4389-eca0-47921ed1dd88"
   },
   "outputs": [
    {
     "name": "stdout",
     "output_type": "stream",
     "text": [
      "Path:\n",
      "/paint-mixers/c/5724/\n",
      "\n",
      "Query:\n",
      "gclid=bbaf471f1b4d10010ebf272925b0d3a3&gclsrc=3p.ds&msclkid=bbaf471f1b4d10010ebf272925b0d3a3&page=2&utm_campaign=DSA%20Manual&utm_content=Cutting,%20holemaking%20%26%20shaping%20tools&utm_medium=cpc&utm_source=bing&utm_term=Drum%20Mixers\n",
      "\n",
      "Custom Variables:\n",
      "Page Category 1<Paint, Coatings & Supplies~Page Category 2<Painting Supplies and Equipment~Page Category 3<Paint Mixers~Page Type<category\n"
     ]
    }
   ],
   "source": [
    "# Extract the path of the URL\n",
    "path = sample_url.split(\"||\")[0].split(\"?\")[0].split(sample_prefix)[-1]\n",
    "\n",
    "# Extract the query - ? is used to join since there may be the case that a query string includes this character\n",
    "query = \"?\".join(sample_url.split(\"||\")[0].split(\"?\")[1:])\n",
    "\n",
    "# Extract the custom variables of the URL (right side of custom variable delimiter)\n",
    "#cvar = sample_url.split(\"||\")[-1]\n",
    "cvar = \"||\".join(sample_url.split(\"||\")[1:])\n",
    "\n",
    "# Print the Components\n",
    "print(f'Path:\\n{path}\\n\\nQuery:\\n{query}\\n\\nCustom Variables:\\n{cvar}')"
   ]
  },
  {
   "cell_type": "markdown",
   "id": "d6ad4993",
   "metadata": {
    "id": "d6ad4993"
   },
   "source": [
    "### Parse Main URL Sections\n",
    "\n",
    "In this sub-section we test component extraction techniques for each of the sections of the URLs. For a path we extract all its levels and for the queries and custom variables we extract both their parameter names and values. This techniques will be useful to define feature engineering functions in the next subsection."
   ]
  },
  {
   "cell_type": "markdown",
   "id": "08JOyf8mVs6-",
   "metadata": {
    "id": "08JOyf8mVs6-"
   },
   "source": [
    "**Path Section**\n",
    "\n",
    "Extract all path levels."
   ]
  },
  {
   "cell_type": "code",
   "execution_count": 28,
   "id": "SO-eRYhdVxEN",
   "metadata": {
    "colab": {
     "base_uri": "https://localhost:8080/"
    },
    "id": "SO-eRYhdVxEN",
    "outputId": "563fc6b0-b66a-4557-d662-cb6d596a7dd5"
   },
   "outputs": [
    {
     "data": {
      "text/plain": [
       "['paint-mixers', 'c', '5724']"
      ]
     },
     "execution_count": 28,
     "metadata": {},
     "output_type": "execute_result"
    }
   ],
   "source": [
    "# Save all the levels of a given path as elements of a list\n",
    "path_list = path.strip(\"/\").split(\"/\")\n",
    "path_list"
   ]
  },
  {
   "cell_type": "markdown",
   "id": "JMqdXhkpb_IK",
   "metadata": {
    "id": "JMqdXhkpb_IK"
   },
   "source": [
    "**Query Section**\n",
    "\n",
    "Extract query parameters and associated values as key/value pairs of a data dictionary."
   ]
  },
  {
   "cell_type": "markdown",
   "id": "wgOCeQpV-o5c",
   "metadata": {
    "id": "wgOCeQpV-o5c"
   },
   "source": [
    "There are some corner cases to consider while extracting query parameters:\n",
    "\n",
    "* **Case 1**: The query contains a parameter with no associated value.\n",
    "\n",
    "  *Example*: `cs-popin-add-to-bag`\n",
    "\n",
    "* **Case 2**: The query contains more than 1 '=' symbol in the body of a value.\n",
    "\n",
    "  *Example*: `assemblyService=%7B%7D&checkoutId=19f9eecb-e2eb-4225-ab1f-5008b72945d6&deliveryAreaId=90c0cf78-e78b-43ee-8807-fae03b83c4c4&payment=eyJwYXltZW50VHlwZSI6IkFDSV9QQVlQQUwifQ==&paymentContextId=3174a5fa-b9c5-4b91-8c0c-2c42d74d8e92`\n",
    "\n",
    "* **Case 3**: The query contains an empty pair.\n",
    "\n",
    "  *Example*: `&_campaign=&gclid=CjwKCAiAyc2BBhAaEiwA44-wW2e0sJKgMQO_wnwHCHPwZu2F9MjnMN1RKrQshif6STFGiqB768l-nhoCAYcQAvD_BwE&gclsrc=aw.ds`\n",
    "\n",
    "In order to test the parsing of these corner cases we define some synthetic queries based upon real data for testing their coverage. Each synthetic query corresponds to each of the corner cases expressed above.\n"
   ]
  },
  {
   "cell_type": "code",
   "execution_count": 29,
   "id": "PqpZhQzIAUBY",
   "metadata": {
    "id": "PqpZhQzIAUBY"
   },
   "outputs": [],
   "source": [
    "synth_query_1 = 'cs-popin-add-to-bag'\n",
    "synth_query_2 = 'assemblyService=%7B%7D&checkoutId=19f9eecb-e2eb-4225-ab1f-5008b72945d6&deliveryAreaId=90c0cf78-e78b-43ee-8807-fae03b83c4c4&payment=eyJwYXltZW50VHlwZSI6IkFDSV9QQVlQQUwifQ==&paymentContextId=3174a5fa-b9c5-4b91-8c0c-2c42d74d8e92'\n",
    "synth_query_3 = '&_campaign=&gclid=CjwKCAiAyc2BBhAaEiwA44-wW2e0sJKgMQO_wnwHCHPwZu2F9MjnMN1RKrQshif6STFGiqB768l-nhoCAYcQAvD_BwE&gclsrc=aw.ds'"
   ]
  },
  {
   "cell_type": "markdown",
   "id": "1l6tYgbcpzkP",
   "metadata": {
    "id": "1l6tYgbcpzkP"
   },
   "source": [
    "We create an auxiliary function to extract an URL query components given its string expression. We test it against the synthetic test samples representing the corner cases."
   ]
  },
  {
   "cell_type": "code",
   "execution_count": 30,
   "id": "d846f3d9",
   "metadata": {
    "colab": {
     "base_uri": "https://localhost:8080/"
    },
    "id": "d846f3d9",
    "outputId": "fdec8c19-4ae6-493a-cc7b-71ee752bee1f"
   },
   "outputs": [
    {
     "data": {
      "text/plain": [
       "{'assemblyService': '%7B%7D',\n",
       " 'checkoutId': '19f9eecb-e2eb-4225-ab1f-5008b72945d6',\n",
       " 'deliveryAreaId': '90c0cf78-e78b-43ee-8807-fae03b83c4c4',\n",
       " 'payment': 'eyJwYXltZW50VHlwZSI6IkFDSV9QQVlQQUwifQ==',\n",
       " 'paymentContextId': '3174a5fa-b9c5-4b91-8c0c-2c42d74d8e92'}"
      ]
     },
     "execution_count": 30,
     "metadata": {},
     "output_type": "execute_result"
    }
   ],
   "source": [
    "def parse_query(query) :\n",
    "\n",
    "  ###########################################################################################################\n",
    "  \"\"\"\n",
    "      This function receives a URL query string and extracts its parameters and associated values.\n",
    "      --\n",
    "      In:\n",
    "          * query: String containing a full URL query.\n",
    "      Out:\n",
    "          * query_dict: Data dictionary containing query parameters and their respective values.\n",
    "  \"\"\"\n",
    "  ###########################################################################################################\n",
    "\n",
    "  # Initialize query data dictionary\n",
    "  query_dict = {}\n",
    "\n",
    "  # There could be the case where the query is an empty string\n",
    "  if query != \"\":\n",
    "\n",
    "    # Remove all empty couples\n",
    "    k_v = [k_v for k_v in query.split(\"&\") if k_v != \"\"]\n",
    "    # If only the parameter name is present, save it and set its value to an empty string\n",
    "    k_v = [pair.split('=',1) if len(pair.split('=')) > 1 else [pair, ''] for pair in k_v]\n",
    "\n",
    "    # Create the data dictionary from the key-value list elements\n",
    "    query_dict = dict(k_v)\n",
    "\n",
    "  # Return the data dictionary containing the query information\n",
    "  return query_dict\n",
    "\n",
    "# Test the function against corner case samples\n",
    "parse_query(synth_query_2)"
   ]
  },
  {
   "cell_type": "markdown",
   "id": "bYaVdGCecBBJ",
   "metadata": {
    "id": "bYaVdGCecBBJ"
   },
   "source": [
    "**Custom Variables Section**\n",
    "\n",
    "Extract custom variables and associated values as key/value pairs of a data dictionary."
   ]
  },
  {
   "cell_type": "markdown",
   "id": "gF3PgevMnsJZ",
   "metadata": {
    "id": "gF3PgevMnsJZ"
   },
   "source": [
    "There are some corner cases to consider while extracting custom variable parameters:\n",
    "\n",
    "* **Case 1**: The query contains more than 1 '<' symbol in the body of a value.\n",
    "\n",
    "  *Example 1*: `Content Type<ordershippingbillingview1~Date of birth<35-44~LTV<<10~Logged Status<Logged In~Membership Purchase<Yes~Membership level<GBBPMMS1X50~Membership status<Non member~Page Type<Other~Store<BeautyPie UK`\n",
    "\n",
    "  *Example 2*: `Condition<null~Keyword<nos.com/pl-pl/home~Page Name<Sonos | Bezprzewodowe głośniki i Domowy system dźwiękowy<~Product Availability<null`\n",
    "\n",
    "In order to test the parsing of these corner cases we define some synthetic custom variable sections based upon real data for testing their coverage. Each synthetic query corresponds to each of the corner cases expressed above.\n"
   ]
  },
  {
   "cell_type": "code",
   "execution_count": 31,
   "id": "NEOf93N6nsJf",
   "metadata": {
    "id": "NEOf93N6nsJf"
   },
   "outputs": [],
   "source": [
    "synth_cvar_1 = 'Content Type<ordershippingbillingview1~Date of birth<35-44~LTV<<10~Logged Status<Logged In~Membership Purchase<Yes~Membership level<GBBPMMS1X50~Membership status<Non member~Page Type<Other~Store<BeautyPie UK'\n",
    "synth_cvar_2 = 'Condition<null~Keyword<nos.com/pl-pl/home~Page Name<Sonos | Bezprzewodowe głośniki i Domowy system dźwiękowy<~Product Availability<null'"
   ]
  },
  {
   "cell_type": "markdown",
   "id": "KWG3Lc5ptkuw",
   "metadata": {
    "id": "KWG3Lc5ptkuw"
   },
   "source": [
    "We create an auxiliary function to extract an URL custom variables given its section string expression. We test it against the synthetic test samples representing the corner cases."
   ]
  },
  {
   "cell_type": "code",
   "execution_count": 32,
   "id": "DlqVyWGmrvQd",
   "metadata": {
    "colab": {
     "base_uri": "https://localhost:8080/"
    },
    "id": "DlqVyWGmrvQd",
    "outputId": "4de9ac28-3cdc-4aba-ed85-8009fc50d5ad"
   },
   "outputs": [
    {
     "data": {
      "text/plain": [
       "{'Content Type': 'ordershippingbillingview1',\n",
       " 'Date of birth': '35-44',\n",
       " 'LTV': '<10',\n",
       " 'Logged Status': 'Logged In',\n",
       " 'Membership Purchase': 'Yes',\n",
       " 'Membership level': 'GBBPMMS1X50',\n",
       " 'Membership status': 'Non member',\n",
       " 'Page Type': 'Other',\n",
       " 'Store': 'BeautyPie UK'}"
      ]
     },
     "execution_count": 32,
     "metadata": {},
     "output_type": "execute_result"
    }
   ],
   "source": [
    "def parse_cvar(cvar) :\n",
    "\n",
    "  ###########################################################################################################\n",
    "  \"\"\"\n",
    "      This function receives a URL custom variables string and extracts its parameters and associated values.\n",
    "      --\n",
    "      In:\n",
    "          * query: String containing a full URL custom variable section.\n",
    "      Out:\n",
    "          * query_dict: Data dictionary containing custom variable parameters and their respective values.\n",
    "  \"\"\"\n",
    "  ###########################################################################################################\n",
    "\n",
    "  # Initialize query data dictionary\n",
    "  cvar_dict = {}\n",
    "\n",
    "  # There could be the case where the query is an empty string\n",
    "  if cvar != \"\":\n",
    "\n",
    "    # Remove all empty couples\n",
    "    k_v = [k_v for k_v in cvar.split(\"~\") if k_v != \"\"]\n",
    "    # If only the parameter name is present, save it and set its value to an empty string\n",
    "    k_v = [pair.split('<',1) if len(pair.split('<')) > 1 else [pair, ''] for pair in k_v]\n",
    "\n",
    "    # Create the data dictionary from the key-value list elements\n",
    "    cvar_dict = dict(k_v)\n",
    "\n",
    "  # Return the data dictionary containing the custom variables information\n",
    "  return cvar_dict\n",
    "\n",
    "# Test the function against corner case samples\n",
    "parse_cvar(synth_cvar_1)"
   ]
  },
  {
   "cell_type": "markdown",
   "id": "gSUPucv9y7gC",
   "metadata": {
    "id": "gSUPucv9y7gC"
   },
   "source": [
    "### Create Section Features"
   ]
  },
  {
   "cell_type": "markdown",
   "id": "yaehlLXQmQ-P",
   "metadata": {
    "id": "yaehlLXQmQ-P"
   },
   "source": [
    "With the functions used to extract URL sections and their components, we will create columns containing this broken-down information. For this we define an auxiliary function that can be used in a DataFrame transformation pipeline."
   ]
  },
  {
   "cell_type": "code",
   "execution_count": 33,
   "id": "NUcA7Oo0b24a",
   "metadata": {
    "id": "NUcA7Oo0b24a"
   },
   "outputs": [],
   "source": [
    "def create_URL_features(df) :\n",
    "\n",
    "  ###########################################################################################################\n",
    "  \"\"\"\n",
    "      This function receives a dataframe containg a URL column and adds to it path, query and cvar based features.\n",
    "      --\n",
    "      In:\n",
    "          * df: DataFrame containing a URL column.\n",
    "      Out:\n",
    "          * void\n",
    "  \"\"\"\n",
    "  ###########################################################################################################\n",
    "\n",
    "  # Create lists to store information to be extracted\n",
    "  paths        = []\n",
    "  path_counts  = []\n",
    "  query_keys   = []\n",
    "  query_values = []\n",
    "  query_counts = []\n",
    "  cvar_keys    = []\n",
    "  cvar_values  = []\n",
    "  cvar_counts  = []\n",
    "\n",
    "  # Iterate to get all rows section components information\n",
    "  for index, row in df.iterrows():\n",
    "\n",
    "    # Path Features Information\n",
    "\n",
    "    current_path = row['url'].split(\"||\")[0].split(\"?\")[0].split(row['prefix'])[-1]\n",
    "    current_path = current_path.strip(\"/\").split(\"/\")\n",
    "    if current_path[0] == \"\" :\n",
    "      path_counts.append(0)\n",
    "    else :\n",
    "      path_counts.append(len(current_path))\n",
    "    current_path = \" \".join(current_path)\n",
    "    paths.append(current_path)\n",
    "\n",
    "    # Query Features Information\n",
    "\n",
    "    # Reset current query dictionary each iteration\n",
    "    current_query_dict = {}\n",
    "    # Extract query section from URL string\n",
    "    current_query = \"?\".join(row['url'].split(\"||\")[0].split(\"?\")[1:])\n",
    "    # Get all query key-value pairs and store them in a dictionary\n",
    "    current_query_dict = parse_query(current_query)\n",
    "    # Add the key-value pairs to their respective list of strings\n",
    "    current_query_keys = current_query_dict.keys()\n",
    "    current_query_values = current_query_dict.values()\n",
    "    query_counts.append(len(current_query_keys))\n",
    "    current_query_keys = \" \".join(current_query_keys)\n",
    "    query_keys.append(current_query_keys)\n",
    "    current_query_values = \" \".join(current_query_values)\n",
    "    query_values.append(current_query_values)\n",
    "\n",
    "    # Custom Variable Features Information\n",
    "\n",
    "    # Reset current cvar dictionary each iteration\n",
    "    current_cvar_dict = {}\n",
    "    # Extract custom variable section from URL string\n",
    "    current_cvar = \"||\".join(row['url'].split(\"||\")[1:])\n",
    "    # Get all custom variable key-value pairs and store them in a dictionary\n",
    "    current_cvar_dict = parse_cvar(current_cvar)\n",
    "    # Add the key-value pairs to their respective list of strings\n",
    "    current_cvar_keys = current_cvar_dict.keys()\n",
    "    current_cvar_values = current_cvar_dict.values()\n",
    "    cvar_counts.append(len(current_cvar_keys))\n",
    "    current_cvar_keys = \" \".join(current_cvar_keys)\n",
    "    cvar_keys.append(current_cvar_keys)\n",
    "    current_cvar_values = \" \".join(current_cvar_values)\n",
    "    cvar_values.append(current_cvar_values)\n",
    "\n",
    "  # Create the new columns based on the extracted information\n",
    "  df['path']         = paths\n",
    "  df['path_count']   = path_counts\n",
    "  df['query_keys']   = query_keys\n",
    "  df['query_values'] = query_values\n",
    "  df['query_count']  = query_counts\n",
    "  df['cvar_keys']    = cvar_keys\n",
    "  df['cvar_values']  = cvar_values\n",
    "  df['cvar_count']   = cvar_counts\n",
    "\n",
    "create_URL_features(df)"
   ]
  },
  {
   "cell_type": "markdown",
   "id": "hFUfb8VG2uox",
   "metadata": {
    "id": "hFUfb8VG2uox"
   },
   "source": [
    "Let's inspect the dataframe with the engineered features to ensure correctness."
   ]
  },
  {
   "cell_type": "code",
   "execution_count": 34,
   "id": "LOAWTtzpodf6",
   "metadata": {
    "colab": {
     "base_uri": "https://localhost:8080/",
     "height": 1000
    },
    "id": "LOAWTtzpodf6",
    "outputId": "2c96057f-0d3f-4cf1-d8b4-2c0b364cb5bf"
   },
   "outputs": [
    {
     "data": {
      "text/html": [
       "<div>\n",
       "<style scoped>\n",
       "    .dataframe tbody tr th:only-of-type {\n",
       "        vertical-align: middle;\n",
       "    }\n",
       "\n",
       "    .dataframe tbody tr th {\n",
       "        vertical-align: top;\n",
       "    }\n",
       "\n",
       "    .dataframe thead th {\n",
       "        text-align: right;\n",
       "    }\n",
       "</style>\n",
       "<table border=\"1\" class=\"dataframe\">\n",
       "  <thead>\n",
       "    <tr style=\"text-align: right;\">\n",
       "      <th></th>\n",
       "      <th>url</th>\n",
       "      <th>prefix</th>\n",
       "      <th>category_name</th>\n",
       "      <th>path</th>\n",
       "      <th>path_count</th>\n",
       "      <th>query_keys</th>\n",
       "      <th>query_values</th>\n",
       "      <th>query_count</th>\n",
       "      <th>cvar_keys</th>\n",
       "      <th>cvar_values</th>\n",
       "      <th>cvar_count</th>\n",
       "    </tr>\n",
       "  </thead>\n",
       "  <tbody>\n",
       "    <tr>\n",
       "      <th>0</th>\n",
       "      <td>https://www.1001pneus.fr/sales/order/view/orde...</td>\n",
       "      <td>www.1001pneus.fr</td>\n",
       "      <td>other</td>\n",
       "      <td>sales order view order_id 50621</td>\n",
       "      <td>5</td>\n",
       "      <td></td>\n",
       "      <td></td>\n",
       "      <td>0</td>\n",
       "      <td>currentStore ecomm_pagetype visitorECustomer  ...</td>\n",
       "      <td>French FR Store View other Oui 2468349 Logged ...</td>\n",
       "      <td>6</td>\n",
       "    </tr>\n",
       "    <tr>\n",
       "      <th>1</th>\n",
       "      <td>https://www.1001pneus.fr/multishipping/checkou...</td>\n",
       "      <td>www.1001pneus.fr</td>\n",
       "      <td>checkout</td>\n",
       "      <td>multishipping checkout addresses</td>\n",
       "      <td>3</td>\n",
       "      <td></td>\n",
       "      <td></td>\n",
       "      <td>0</td>\n",
       "      <td>currentStore ecomm_pagetype visitorECustomer  ...</td>\n",
       "      <td>French FR Store View other Oui 1253593 Logged ...</td>\n",
       "      <td>6</td>\n",
       "    </tr>\n",
       "    <tr>\n",
       "      <th>2</th>\n",
       "      <td>https://www.1001pneus.fr/marquage-pneu-sigles?...</td>\n",
       "      <td>www.1001pneus.fr</td>\n",
       "      <td>other</td>\n",
       "      <td>marquage-pneu-sigles</td>\n",
       "      <td>1</td>\n",
       "      <td></td>\n",
       "      <td></td>\n",
       "      <td>0</td>\n",
       "      <td>currentStore ecomm_pagetype visitorECustomer  ...</td>\n",
       "      <td>French FR Store View other Non 192391 Logged i...</td>\n",
       "      <td>6</td>\n",
       "    </tr>\n",
       "    <tr>\n",
       "      <th>3</th>\n",
       "      <td>https://www.1001pneus.fr/pneus-auto?diameter=1...</td>\n",
       "      <td>www.1001pneus.fr</td>\n",
       "      <td>search</td>\n",
       "      <td>pneus-auto</td>\n",
       "      <td>1</td>\n",
       "      <td>diameter height season%5B1%5D width</td>\n",
       "      <td>13 65 4+Saisons 165</td>\n",
       "      <td>4</td>\n",
       "      <td>currentStore ecomm_category ecomm_pagetype vis...</td>\n",
       "      <td>French FR Store View Pneus auto Universe Non 1...</td>\n",
       "      <td>7</td>\n",
       "    </tr>\n",
       "    <tr>\n",
       "      <th>4</th>\n",
       "      <td>https://www.1001pneus.fr/pneus-auto/marques-pn...</td>\n",
       "      <td>www.1001pneus.fr</td>\n",
       "      <td>category</td>\n",
       "      <td>pneus-auto marques-pneus-auto michelin primacy-4</td>\n",
       "      <td>4</td>\n",
       "      <td>diameter height load_index speed_index width</td>\n",
       "      <td>17 50 93 W 205</td>\n",
       "      <td>5</td>\n",
       "      <td>currentStore ecomm_category ecomm_pagetype vis...</td>\n",
       "      <td>French FR Store View Pneus auto/Marques Auto/M...</td>\n",
       "      <td>6</td>\n",
       "    </tr>\n",
       "    <tr>\n",
       "      <th>5</th>\n",
       "      <td>https://www.1001pneus.fr/pneus-auto/marques-pn...</td>\n",
       "      <td>www.1001pneus.fr</td>\n",
       "      <td>category</td>\n",
       "      <td>pneus-auto marques-pneus-auto continental alls...</td>\n",
       "      <td>4</td>\n",
       "      <td>diameter height load_index speed_index width</td>\n",
       "      <td>17 60 96 H 215</td>\n",
       "      <td>5</td>\n",
       "      <td>currentStore ecomm_category ecomm_pagetype vis...</td>\n",
       "      <td>French FR Store View Pneus auto/Marques Auto/C...</td>\n",
       "      <td>7</td>\n",
       "    </tr>\n",
       "    <tr>\n",
       "      <th>6</th>\n",
       "      <td>https://www.1001pneus.fr/bridgestone-potenza-s...</td>\n",
       "      <td>www.1001pneus.fr</td>\n",
       "      <td>product</td>\n",
       "      <td>bridgestone-potenza-s001-225-45-r17-91-y-27747...</td>\n",
       "      <td>1</td>\n",
       "      <td></td>\n",
       "      <td></td>\n",
       "      <td>0</td>\n",
       "      <td>currentStore ecomm_category ecomm_pagetype vis...</td>\n",
       "      <td>French FR Store View Pneus auto/Marques Auto/B...</td>\n",
       "      <td>6</td>\n",
       "    </tr>\n",
       "    <tr>\n",
       "      <th>7</th>\n",
       "      <td>https://www.1001pneus.fr/pneus-auto/marques-pn...</td>\n",
       "      <td>www.1001pneus.fr</td>\n",
       "      <td>category</td>\n",
       "      <td>pneus-auto marques-pneus-auto uniroyal ms-plus-77</td>\n",
       "      <td>4</td>\n",
       "      <td></td>\n",
       "      <td></td>\n",
       "      <td>0</td>\n",
       "      <td>currentStore ecomm_category ecomm_pagetype vis...</td>\n",
       "      <td>French FR Store View Pneus auto/Marques Auto/U...</td>\n",
       "      <td>6</td>\n",
       "    </tr>\n",
       "    <tr>\n",
       "      <th>8</th>\n",
       "      <td>https://www.1001pneus.fr/pneus-auto/marques-pn...</td>\n",
       "      <td>www.1001pneus.fr</td>\n",
       "      <td>category</td>\n",
       "      <td>pneus-auto marques-pneus-auto continental wint...</td>\n",
       "      <td>4</td>\n",
       "      <td>utm_campaign utm_medium utm_source</td>\n",
       "      <td>BtoC__Jusqu_140_offerts_chez_Continental__5_ch...</td>\n",
       "      <td>3</td>\n",
       "      <td>currentStore ecomm_category ecomm_pagetype vis...</td>\n",
       "      <td>French FR Store View Pneus auto/Marques Auto/C...</td>\n",
       "      <td>6</td>\n",
       "    </tr>\n",
       "    <tr>\n",
       "      <th>9</th>\n",
       "      <td>https://www.1001pneus.fr/continental-vanco-cam...</td>\n",
       "      <td>www.1001pneus.fr</td>\n",
       "      <td>product</td>\n",
       "      <td>continental-vanco-camper-215-70-r15-109-r-6612-pn</td>\n",
       "      <td>1</td>\n",
       "      <td></td>\n",
       "      <td></td>\n",
       "      <td>0</td>\n",
       "      <td>currentStore ecomm_category ecomm_pagetype vis...</td>\n",
       "      <td>French FR Store View Pneus auto/Marques Auto/C...</td>\n",
       "      <td>7</td>\n",
       "    </tr>\n",
       "  </tbody>\n",
       "</table>\n",
       "</div>"
      ],
      "text/plain": [
       "                                                 url            prefix  \\\n",
       "0  https://www.1001pneus.fr/sales/order/view/orde...  www.1001pneus.fr   \n",
       "1  https://www.1001pneus.fr/multishipping/checkou...  www.1001pneus.fr   \n",
       "2  https://www.1001pneus.fr/marquage-pneu-sigles?...  www.1001pneus.fr   \n",
       "3  https://www.1001pneus.fr/pneus-auto?diameter=1...  www.1001pneus.fr   \n",
       "4  https://www.1001pneus.fr/pneus-auto/marques-pn...  www.1001pneus.fr   \n",
       "5  https://www.1001pneus.fr/pneus-auto/marques-pn...  www.1001pneus.fr   \n",
       "6  https://www.1001pneus.fr/bridgestone-potenza-s...  www.1001pneus.fr   \n",
       "7  https://www.1001pneus.fr/pneus-auto/marques-pn...  www.1001pneus.fr   \n",
       "8  https://www.1001pneus.fr/pneus-auto/marques-pn...  www.1001pneus.fr   \n",
       "9  https://www.1001pneus.fr/continental-vanco-cam...  www.1001pneus.fr   \n",
       "\n",
       "  category_name                                               path  \\\n",
       "0         other                    sales order view order_id 50621   \n",
       "1      checkout                   multishipping checkout addresses   \n",
       "2         other                               marquage-pneu-sigles   \n",
       "3        search                                         pneus-auto   \n",
       "4      category   pneus-auto marques-pneus-auto michelin primacy-4   \n",
       "5      category  pneus-auto marques-pneus-auto continental alls...   \n",
       "6       product  bridgestone-potenza-s001-225-45-r17-91-y-27747...   \n",
       "7      category  pneus-auto marques-pneus-auto uniroyal ms-plus-77   \n",
       "8      category  pneus-auto marques-pneus-auto continental wint...   \n",
       "9       product  continental-vanco-camper-215-70-r15-109-r-6612-pn   \n",
       "\n",
       "   path_count                                    query_keys  \\\n",
       "0           5                                                 \n",
       "1           3                                                 \n",
       "2           1                                                 \n",
       "3           1           diameter height season%5B1%5D width   \n",
       "4           4  diameter height load_index speed_index width   \n",
       "5           4  diameter height load_index speed_index width   \n",
       "6           1                                                 \n",
       "7           4                                                 \n",
       "8           4            utm_campaign utm_medium utm_source   \n",
       "9           1                                                 \n",
       "\n",
       "                                        query_values  query_count  \\\n",
       "0                                                               0   \n",
       "1                                                               0   \n",
       "2                                                               0   \n",
       "3                                13 65 4+Saisons 165            4   \n",
       "4                                     17 50 93 W 205            5   \n",
       "5                                     17 60 96 H 215            5   \n",
       "6                                                               0   \n",
       "7                                                               0   \n",
       "8  BtoC__Jusqu_140_offerts_chez_Continental__5_ch...            3   \n",
       "9                                                               0   \n",
       "\n",
       "                                           cvar_keys  \\\n",
       "0  currentStore ecomm_pagetype visitorECustomer  ...   \n",
       "1  currentStore ecomm_pagetype visitorECustomer  ...   \n",
       "2  currentStore ecomm_pagetype visitorECustomer  ...   \n",
       "3  currentStore ecomm_category ecomm_pagetype vis...   \n",
       "4  currentStore ecomm_category ecomm_pagetype vis...   \n",
       "5  currentStore ecomm_category ecomm_pagetype vis...   \n",
       "6  currentStore ecomm_category ecomm_pagetype vis...   \n",
       "7  currentStore ecomm_category ecomm_pagetype vis...   \n",
       "8  currentStore ecomm_category ecomm_pagetype vis...   \n",
       "9  currentStore ecomm_category ecomm_pagetype vis...   \n",
       "\n",
       "                                         cvar_values  cvar_count  \n",
       "0  French FR Store View other Oui 2468349 Logged ...           6  \n",
       "1  French FR Store View other Oui 1253593 Logged ...           6  \n",
       "2  French FR Store View other Non 192391 Logged i...           6  \n",
       "3  French FR Store View Pneus auto Universe Non 1...           7  \n",
       "4  French FR Store View Pneus auto/Marques Auto/M...           6  \n",
       "5  French FR Store View Pneus auto/Marques Auto/C...           7  \n",
       "6  French FR Store View Pneus auto/Marques Auto/B...           6  \n",
       "7  French FR Store View Pneus auto/Marques Auto/U...           6  \n",
       "8  French FR Store View Pneus auto/Marques Auto/C...           6  \n",
       "9  French FR Store View Pneus auto/Marques Auto/C...           7  "
      ]
     },
     "execution_count": 34,
     "metadata": {},
     "output_type": "execute_result"
    }
   ],
   "source": [
    "df.head(10)"
   ]
  },
  {
   "cell_type": "code",
   "execution_count": 35,
   "id": "IDdRvYT3nbC8",
   "metadata": {
    "colab": {
     "base_uri": "https://localhost:8080/",
     "height": 1000
    },
    "id": "IDdRvYT3nbC8",
    "outputId": "58095690-93d8-44e1-e6b8-ebe21c946004"
   },
   "outputs": [
    {
     "data": {
      "text/html": [
       "<div>\n",
       "<style scoped>\n",
       "    .dataframe tbody tr th:only-of-type {\n",
       "        vertical-align: middle;\n",
       "    }\n",
       "\n",
       "    .dataframe tbody tr th {\n",
       "        vertical-align: top;\n",
       "    }\n",
       "\n",
       "    .dataframe thead th {\n",
       "        text-align: right;\n",
       "    }\n",
       "</style>\n",
       "<table border=\"1\" class=\"dataframe\">\n",
       "  <thead>\n",
       "    <tr style=\"text-align: right;\">\n",
       "      <th></th>\n",
       "      <th>url</th>\n",
       "      <th>prefix</th>\n",
       "      <th>category_name</th>\n",
       "      <th>path</th>\n",
       "      <th>path_count</th>\n",
       "      <th>query_keys</th>\n",
       "      <th>query_values</th>\n",
       "      <th>query_count</th>\n",
       "      <th>cvar_keys</th>\n",
       "      <th>cvar_values</th>\n",
       "      <th>cvar_count</th>\n",
       "    </tr>\n",
       "  </thead>\n",
       "  <tbody>\n",
       "    <tr>\n",
       "      <th>54469</th>\n",
       "      <td>https://www.zoro.com/ergodyne-backpack-blue-po...</td>\n",
       "      <td>www.zoro.com</td>\n",
       "      <td>category</td>\n",
       "      <td>ergodyne-backpack-blue-polyester-5244 i G74068...</td>\n",
       "      <td>4</td>\n",
       "      <td>gclid utm_campaign utm_content utm_medium utm_...</td>\n",
       "      <td>CjwKCAiAyc2BBhAaEiwA44-wW1QuqRuzcNOneSjMM5c7Sy...</td>\n",
       "      <td>5</td>\n",
       "      <td>Page Category 1 Page Category 2 Page Category ...</td>\n",
       "      <td>Facility &amp; Worksite Safety Fire Protection Wil...</td>\n",
       "      <td>4</td>\n",
       "    </tr>\n",
       "    <tr>\n",
       "      <th>54470</th>\n",
       "      <td>https://www.zoro.com/search?categoryl1=Fastene...</td>\n",
       "      <td>www.zoro.com</td>\n",
       "      <td>search</td>\n",
       "      <td>search</td>\n",
       "      <td>1</td>\n",
       "      <td>categoryl1 categoryl2 categoryl3 q variants.at...</td>\n",
       "      <td>Fasteners Anchors Wedge%20Anchors  1%2F2%20in</td>\n",
       "      <td>5</td>\n",
       "      <td>Page Category 1 Page Category 2 Page Category ...</td>\n",
       "      <td>Fasteners Anchors Wedge Anchors search</td>\n",
       "      <td>4</td>\n",
       "    </tr>\n",
       "    <tr>\n",
       "      <th>54471</th>\n",
       "      <td>https://www.zoro.com/search?amp%3Bcategoryl1=T...</td>\n",
       "      <td>www.zoro.com</td>\n",
       "      <td>search</td>\n",
       "      <td>search</td>\n",
       "      <td>1</td>\n",
       "      <td>amp%3Bcategoryl1 amp%3Bcategoryl2 amp%3Bcatego...</td>\n",
       "      <td>Test%20Instruments%20%26%20Gauges Water%20Qual...</td>\n",
       "      <td>8</td>\n",
       "      <td>Page Category 1 Page Category 2 Page Category ...</td>\n",
       "      <td>Test Instruments &amp; Gauges Water Quality Testin...</td>\n",
       "      <td>4</td>\n",
       "    </tr>\n",
       "    <tr>\n",
       "      <th>54472</th>\n",
       "      <td>https://www.zoro.com/search?categoryl1=Gloves,...</td>\n",
       "      <td>www.zoro.com</td>\n",
       "      <td>search</td>\n",
       "      <td>search</td>\n",
       "      <td>1</td>\n",
       "      <td>categoryl1 page price-max price-min q</td>\n",
       "      <td>Gloves,%20Eyewear,%20Ear%20Protection,%20Masks...</td>\n",
       "      <td>5</td>\n",
       "      <td>Page Category 1 Page Type</td>\n",
       "      <td>Gloves, Eyewear, Ear Protection, Masks &amp; Cloth...</td>\n",
       "      <td>2</td>\n",
       "    </tr>\n",
       "    <tr>\n",
       "      <th>54473</th>\n",
       "      <td>https://www.zoro.com/search?page=2&amp;q=plug%20wr...</td>\n",
       "      <td>www.zoro.com</td>\n",
       "      <td>search</td>\n",
       "      <td>search</td>\n",
       "      <td>1</td>\n",
       "      <td>page q</td>\n",
       "      <td>2 plug%20wrench</td>\n",
       "      <td>2</td>\n",
       "      <td>Page Type</td>\n",
       "      <td>search</td>\n",
       "      <td>1</td>\n",
       "    </tr>\n",
       "    <tr>\n",
       "      <th>54474</th>\n",
       "      <td>https://www.zoro.com/?id=Header&amp;smtrctid=15242...</td>\n",
       "      <td>www.zoro.com</td>\n",
       "      <td>home</td>\n",
       "      <td></td>\n",
       "      <td>0</td>\n",
       "      <td>id smtrctid utm_campaign utm_content utm_mediu...</td>\n",
       "      <td>Header 152424838 202005_OrderConfirm_Transacti...</td>\n",
       "      <td>6</td>\n",
       "      <td>Page Type</td>\n",
       "      <td>homepage</td>\n",
       "      <td>1</td>\n",
       "    </tr>\n",
       "    <tr>\n",
       "      <th>54476</th>\n",
       "      <td>https://www.zoro.com/?origin=defaultbehavior&amp;s...</td>\n",
       "      <td>www.zoro.com</td>\n",
       "      <td>home</td>\n",
       "      <td></td>\n",
       "      <td>0</td>\n",
       "      <td>origin sitepath whence</td>\n",
       "      <td>defaultbehavior %2Fcheckout%2Flogin.ssp</td>\n",
       "      <td>3</td>\n",
       "      <td>Page Type</td>\n",
       "      <td>homepage</td>\n",
       "      <td>1</td>\n",
       "    </tr>\n",
       "    <tr>\n",
       "      <th>54477</th>\n",
       "      <td>https://www.zoro.com/paint-mixers/c/5724/?gcli...</td>\n",
       "      <td>www.zoro.com</td>\n",
       "      <td>category</td>\n",
       "      <td>paint-mixers c 5724</td>\n",
       "      <td>3</td>\n",
       "      <td>gclid gclsrc msclkid page utm_campaign utm_con...</td>\n",
       "      <td>bbaf471f1b4d10010ebf272925b0d3a3 3p.ds bbaf471...</td>\n",
       "      <td>9</td>\n",
       "      <td>Page Category 1 Page Category 2 Page Category ...</td>\n",
       "      <td>Paint, Coatings &amp; Supplies Painting Supplies a...</td>\n",
       "      <td>4</td>\n",
       "    </tr>\n",
       "    <tr>\n",
       "      <th>54479</th>\n",
       "      <td>https://www.zoro.com/welding-accessories/c/638...</td>\n",
       "      <td>www.zoro.com</td>\n",
       "      <td>category</td>\n",
       "      <td>welding-accessories c 6389</td>\n",
       "      <td>3</td>\n",
       "      <td></td>\n",
       "      <td></td>\n",
       "      <td>0</td>\n",
       "      <td>Page Category 1 Page Category 2 Page Category ...</td>\n",
       "      <td>Welding &amp; Soldering Equipment &amp; Supplies Weldi...</td>\n",
       "      <td>4</td>\n",
       "    </tr>\n",
       "    <tr>\n",
       "      <th>54480</th>\n",
       "      <td>https://www.zoro.com/search?categoryl1=Gloves,...</td>\n",
       "      <td>www.zoro.com</td>\n",
       "      <td>search</td>\n",
       "      <td>search</td>\n",
       "      <td>1</td>\n",
       "      <td>categoryl1 page price-max price-min q</td>\n",
       "      <td>Gloves,%20Eyewear,%20Ear%20Protection,%20Masks...</td>\n",
       "      <td>5</td>\n",
       "      <td>Page Category 1 Page Type</td>\n",
       "      <td>Gloves, Eyewear, Ear Protection, Masks &amp; Cloth...</td>\n",
       "      <td>2</td>\n",
       "    </tr>\n",
       "  </tbody>\n",
       "</table>\n",
       "</div>"
      ],
      "text/plain": [
       "                                                     url        prefix  \\\n",
       "54469  https://www.zoro.com/ergodyne-backpack-blue-po...  www.zoro.com   \n",
       "54470  https://www.zoro.com/search?categoryl1=Fastene...  www.zoro.com   \n",
       "54471  https://www.zoro.com/search?amp%3Bcategoryl1=T...  www.zoro.com   \n",
       "54472  https://www.zoro.com/search?categoryl1=Gloves,...  www.zoro.com   \n",
       "54473  https://www.zoro.com/search?page=2&q=plug%20wr...  www.zoro.com   \n",
       "54474  https://www.zoro.com/?id=Header&smtrctid=15242...  www.zoro.com   \n",
       "54476  https://www.zoro.com/?origin=defaultbehavior&s...  www.zoro.com   \n",
       "54477  https://www.zoro.com/paint-mixers/c/5724/?gcli...  www.zoro.com   \n",
       "54479  https://www.zoro.com/welding-accessories/c/638...  www.zoro.com   \n",
       "54480  https://www.zoro.com/search?categoryl1=Gloves,...  www.zoro.com   \n",
       "\n",
       "      category_name                                               path  \\\n",
       "54469      category  ergodyne-backpack-blue-polyester-5244 i G74068...   \n",
       "54470        search                                             search   \n",
       "54471        search                                             search   \n",
       "54472        search                                             search   \n",
       "54473        search                                             search   \n",
       "54474          home                                                      \n",
       "54476          home                                                      \n",
       "54477      category                                paint-mixers c 5724   \n",
       "54479      category                         welding-accessories c 6389   \n",
       "54480        search                                             search   \n",
       "\n",
       "       path_count                                         query_keys  \\\n",
       "54469           4  gclid utm_campaign utm_content utm_medium utm_...   \n",
       "54470           1  categoryl1 categoryl2 categoryl3 q variants.at...   \n",
       "54471           1  amp%3Bcategoryl1 amp%3Bcategoryl2 amp%3Bcatego...   \n",
       "54472           1              categoryl1 page price-max price-min q   \n",
       "54473           1                                             page q   \n",
       "54474           0  id smtrctid utm_campaign utm_content utm_mediu...   \n",
       "54476           0                             origin sitepath whence   \n",
       "54477           3  gclid gclsrc msclkid page utm_campaign utm_con...   \n",
       "54479           3                                                      \n",
       "54480           1              categoryl1 page price-max price-min q   \n",
       "\n",
       "                                            query_values  query_count  \\\n",
       "54469  CjwKCAiAyc2BBhAaEiwA44-wW1QuqRuzcNOneSjMM5c7Sy...            5   \n",
       "54470      Fasteners Anchors Wedge%20Anchors  1%2F2%20in            5   \n",
       "54471  Test%20Instruments%20%26%20Gauges Water%20Qual...            8   \n",
       "54472  Gloves,%20Eyewear,%20Ear%20Protection,%20Masks...            5   \n",
       "54473                                    2 plug%20wrench            2   \n",
       "54474  Header 152424838 202005_OrderConfirm_Transacti...            6   \n",
       "54476           defaultbehavior %2Fcheckout%2Flogin.ssp             3   \n",
       "54477  bbaf471f1b4d10010ebf272925b0d3a3 3p.ds bbaf471...            9   \n",
       "54479                                                               0   \n",
       "54480  Gloves,%20Eyewear,%20Ear%20Protection,%20Masks...            5   \n",
       "\n",
       "                                               cvar_keys  \\\n",
       "54469  Page Category 1 Page Category 2 Page Category ...   \n",
       "54470  Page Category 1 Page Category 2 Page Category ...   \n",
       "54471  Page Category 1 Page Category 2 Page Category ...   \n",
       "54472                          Page Category 1 Page Type   \n",
       "54473                                          Page Type   \n",
       "54474                                          Page Type   \n",
       "54476                                          Page Type   \n",
       "54477  Page Category 1 Page Category 2 Page Category ...   \n",
       "54479  Page Category 1 Page Category 2 Page Category ...   \n",
       "54480                          Page Category 1 Page Type   \n",
       "\n",
       "                                             cvar_values  cvar_count  \n",
       "54469  Facility & Worksite Safety Fire Protection Wil...           4  \n",
       "54470             Fasteners Anchors Wedge Anchors search           4  \n",
       "54471  Test Instruments & Gauges Water Quality Testin...           4  \n",
       "54472  Gloves, Eyewear, Ear Protection, Masks & Cloth...           2  \n",
       "54473                                             search           1  \n",
       "54474                                           homepage           1  \n",
       "54476                                           homepage           1  \n",
       "54477  Paint, Coatings & Supplies Painting Supplies a...           4  \n",
       "54479  Welding & Soldering Equipment & Supplies Weldi...           4  \n",
       "54480  Gloves, Eyewear, Ear Protection, Masks & Cloth...           2  "
      ]
     },
     "execution_count": 35,
     "metadata": {},
     "output_type": "execute_result"
    }
   ],
   "source": [
    "df.tail(10)"
   ]
  },
  {
   "cell_type": "markdown",
   "id": "6pULcZPWwRa2",
   "metadata": {
    "id": "6pULcZPWwRa2"
   },
   "source": [
    "Plot distribution of number of path levels, query parameters and custom variables per category."
   ]
  },
  {
   "cell_type": "code",
   "execution_count": 36,
   "id": "YSojv5SawRmU",
   "metadata": {
    "colab": {
     "base_uri": "https://localhost:8080/",
     "height": 707
    },
    "id": "YSojv5SawRmU",
    "outputId": "a5b5237e-4e2c-471d-89b6-d38ff6880208"
   },
   "outputs": [
    {
     "data": {
      "image/png": "[encoded data removed]",
      "text/plain": [
       "<Figure size 1500x600 with 1 Axes>"
      ]
     },
     "metadata": {},
     "output_type": "display_data"
    }
   ],
   "source": [
    "def plot_average_count_per_category(dataframe, category_column, numerical_columns):\n",
    "\n",
    "  ###########################################################################################################\n",
    "  \"\"\"\n",
    "      This function plots the mean value of numerical feature(s) per label of a categorical variable.\n",
    "      --\n",
    "      In:\n",
    "          * df: DataFrame containing a categorical feature and 1 or more numerical features.\n",
    "      Out:\n",
    "          * void - Creates a plot.\n",
    "  \"\"\"\n",
    "  ###########################################################################################################\n",
    "  avg_numerical_per_category = dataframe.groupby(category_column)[numerical_columns].mean()\n",
    "\n",
    "  # Plotting\n",
    "  plt.figure(figsize=(15, 6))\n",
    "  for col in numerical_columns:\n",
    "    plt.plot(avg_numerical_per_category.index, avg_numerical_per_category[col], marker='o', label=col)\n",
    "  plt.xlabel(category_column)\n",
    "  plt.xticks(rotation=45)\n",
    "  plt.ylabel('Average Parameter Count')\n",
    "  plt.title('Average Parameter Count per Category')\n",
    "  plt.legend()\n",
    "  plt.show()\n",
    "\n",
    "# Specify the categorical column and numerical columns\n",
    "category_column = 'category_name'\n",
    "numerical_columns = ['path_count', 'query_count', 'cvar_count']\n",
    "\n",
    "# Plot the average numerical value per category\n",
    "plot_average_count_per_category(df, category_column, numerical_columns)"
   ]
  },
  {
   "cell_type": "markdown",
   "id": "GrrmtTo1FO0e",
   "metadata": {
    "id": "GrrmtTo1FO0e"
   },
   "source": [
    "We analyze the count-based engineered features to see if they could have any potential as predictors. For this, we look for peaks (either positive or negative) to try to identify trends in mean section lengths.\n",
    "\n",
    "There are some clear and intuitive insights, for example:\n",
    "\n",
    "* **Custom variable count** for carts and products is consistently high. It is also worth noticing a peak for the `hah? something went wrong!!` category, which from now on we will call the *error* category for simplicity. (We do not rename any feature since an external validation set would respect the original labels for evaluation)\n",
    "* The **query count** is extremely low for legal information and press news categories, while it is basically non-existent for favorite wishlists.\n",
    "* The home category has the lowest number of **path levels count**, which is to be expected since it deals with home pages. A very interesting insight is that the URLs labeled as errors may be somehow correlated to some problem in the path which has a clear superior average number than any other category. This is information which could be useful for detecting these anomalies."
   ]
  },
  {
   "cell_type": "markdown",
   "id": "kw_yHaEMzkf2",
   "metadata": {
    "id": "kw_yHaEMzkf2"
   },
   "source": [
    "### Corpus Processing\n",
    "\n",
    "In this subsection, the goal is to create a corpus for each string feature that is suitable for vectorization and subsequent classification ML training. This implies removing unuseful information from string data and reducing its terms to simplified forms."
   ]
  },
  {
   "cell_type": "markdown",
   "id": "LQz-4erbRMlV",
   "metadata": {
    "id": "LQz-4erbRMlV"
   },
   "source": [
    "Before transforming the string features, we do some experiments to validate that our chosen transformations deliver meaningful representations.\n",
    "\n",
    "We define some synthetic custom variable sections based upon real data for testing their coverage. Each synthetic query corresponds to each of the corner cases expressed above."
   ]
  },
  {
   "cell_type": "code",
   "execution_count": 37,
   "id": "lB5kZVRdu6tB",
   "metadata": {
    "id": "lB5kZVRdu6tB"
   },
   "outputs": [],
   "source": [
    "synth_string_1  = 'paint-mixers_classes_the_on/c/5724'\n",
    "synth_string_2 = 'Content Type<ordershippingbillingview1~Date of birth<35-44~LTV<<10~Logged Status<Logged In~Membership Purchase<Yes~Membership level<GBBPMMS1X50~Membership status<Non member~Page Type<Other~Store<BeautyPie UK'\n",
    "synth_string_3 = '/p/koals'\n",
    "synth_string_4 = 'shop orderitemdisplay'"
   ]
  },
  {
   "cell_type": "markdown",
   "id": "TCU6REO3PBZP",
   "metadata": {
    "id": "TCU6REO3PBZP"
   },
   "source": [
    "In the transformation of the text make use of **stemming**. Stemming is a process that stems or removes last few characters from a word. It is different from lemmatization that considers the context and converts the word to its meaningful base form, which is called Lemma.\n",
    "\n",
    "The difference is illustrated clearly in the following practical example:"
   ]
  },
  {
   "cell_type": "code",
   "execution_count": 38,
   "id": "AYIgKCLrPEt_",
   "metadata": {
    "colab": {
     "base_uri": "https://localhost:8080/",
     "height": 372
    },
    "id": "AYIgKCLrPEt_",
    "outputId": "8a273e22-8f4b-48d1-bce7-0a42b2994389"
   },
   "outputs": [
    {
     "data": {
      "image/png": "[encoded data removed]",
      "text/plain": [
       "<IPython.core.display.Image object>"
      ]
     },
     "execution_count": 38,
     "metadata": {
      "image/png": {
       "width": 640
      }
     },
     "output_type": "execute_result"
    }
   ],
   "source": [
    "Image(\"stemming_lemmatization.png\" , width=640)"
   ]
  },
  {
   "cell_type": "code",
   "execution_count": 39,
   "id": "KmApm_9eoRSC",
   "metadata": {
    "colab": {
     "base_uri": "https://localhost:8080/"
    },
    "id": "KmApm_9eoRSC",
    "outputId": "6688f904-d704-4cd2-c0f6-08eab136607e"
   },
   "outputs": [
    {
     "data": {
      "text/plain": [
       "['content',\n",
       " 'type',\n",
       " 'ordershippingbillingview',\n",
       " 'date',\n",
       " 'birth',\n",
       " 'ltv',\n",
       " 'log',\n",
       " 'statu',\n",
       " 'log',\n",
       " 'membership',\n",
       " 'purchas',\n",
       " 'ye',\n",
       " 'membership',\n",
       " 'level',\n",
       " 'gbbpmm',\n",
       " 'x',\n",
       " 'membership',\n",
       " 'statu',\n",
       " 'non',\n",
       " 'member',\n",
       " 'page',\n",
       " 'type',\n",
       " 'store',\n",
       " 'beautypi',\n",
       " 'uk']"
      ]
     },
     "execution_count": 39,
     "metadata": {},
     "output_type": "execute_result"
    }
   ],
   "source": [
    "# Text processing pipeline experimentation\n",
    "\n",
    "# Exclude all non-alphabetical characters\n",
    "sample_string = re.sub('[^a-zA-Z]', ' ', synth_string_2)\n",
    "# Lower case all the characters\n",
    "sample_string = sample_string.lower()\n",
    "# Split the words\n",
    "sample_string = sample_string.split()\n",
    "# Apply stemming\n",
    "ps = PorterStemmer()\n",
    "# Remove stopwords - maybe not so useful\n",
    "sample_string = [ps.stem(word) for word in sample_string if not word in set(stopwords.words('english'))]\n",
    "sample_string"
   ]
  },
  {
   "cell_type": "markdown",
   "id": "L4HkLwoISMF4",
   "metadata": {
    "id": "L4HkLwoISMF4"
   },
   "source": [
    "We create an auxiliary function to process a URL section text. We test it against a string feature column."
   ]
  },
  {
   "cell_type": "code",
   "execution_count": 40,
   "id": "I_788RP-BCbf",
   "metadata": {
    "colab": {
     "base_uri": "https://localhost:8080/"
    },
    "id": "I_788RP-BCbf",
    "outputId": "2d9845b3-c6e7-4d09-d373-51c028906246"
   },
   "outputs": [
    {
     "data": {
      "text/plain": [
       "['sale order view order id',\n",
       " 'multiship checkout address',\n",
       " 'marquag pneu sigl',\n",
       " 'pneu auto',\n",
       " 'pneu auto marqu pneu auto michelin primaci',\n",
       " 'pneu auto marqu pneu auto continent allseasoncontact',\n",
       " 'bridgeston potenza r pn',\n",
       " 'pneu auto marqu pneu auto uniroy ms plu',\n",
       " 'pneu auto marqu pneu auto continent wintercontact ts',\n",
       " 'continent vanco camper r r pn',\n",
       " 'pneu auto',\n",
       " 'michelin primaci r pn',\n",
       " 'sale order view order id',\n",
       " 'pneu hiver neig',\n",
       " 'pneu auto',\n",
       " '',\n",
       " '',\n",
       " 'pneu auto',\n",
       " 'bridgeston battlax bt pro hypersport zr w pn',\n",
       " 'pneu auto']"
      ]
     },
     "execution_count": 40,
     "metadata": {},
     "output_type": "execute_result"
    }
   ],
   "source": [
    "def process_corpus(df, feature_name) :\n",
    "\n",
    "  ###########################################################################################################\n",
    "  \"\"\"\n",
    "      This function converts a string feature of a DataFrame into a processed corpus for vectorization.\n",
    "      --\n",
    "      In:\n",
    "          * df: DataFrame containing a string feature.\n",
    "          * feature_name: Name of the string feature to process.\n",
    "      Out:\n",
    "          * query_dict: Data dictionary containing custom variable parameters and their respective values.\n",
    "  \"\"\"\n",
    "  ###########################################################################################################\n",
    "  corpus = []\n",
    "\n",
    "  for index, row in df.iterrows():\n",
    "    string = re.sub('[^a-zA-Z]', ' ', row[feature_name])\n",
    "    string = string.lower()\n",
    "    string = string.split()\n",
    "    ps = PorterStemmer()\n",
    "    string = [ps.stem(word) for word in string if not word in set(stopwords.words('english'))]\n",
    "    string = ' '.join(string)\n",
    "    corpus.append(string)\n",
    "\n",
    "  return corpus\n",
    "\n",
    "# Test the function with a string feature column\n",
    "sample_corpus = process_corpus(df, 'path')\n",
    "sample_corpus[:20]"
   ]
  },
  {
   "cell_type": "markdown",
   "id": "2j38b0jbShVj",
   "metadata": {
    "id": "2j38b0jbShVj"
   },
   "source": [
    "With the function used to process the string feature text, we apply the transformations to every of the string feature columns in the DataFrame. For this we define an auxiliary function that can be used in a DataFrame transformation pipeline."
   ]
  },
  {
   "cell_type": "code",
   "execution_count": 41,
   "id": "qqNA8fnAGIjt",
   "metadata": {
    "id": "qqNA8fnAGIjt"
   },
   "outputs": [],
   "source": [
    "def process_URL_string_features(df) :\n",
    "\n",
    "  ###########################################################################################################\n",
    "  \"\"\"\n",
    "      This function receives a dataframe containg URL section features and processes their strings for NLP.\n",
    "      --\n",
    "      In:\n",
    "          * df: DataFrame containing a URL section features.\n",
    "      Out:\n",
    "          * void - The provided DataFrame is transformed.\n",
    "  \"\"\"\n",
    "  ###########################################################################################################\n",
    "\n",
    "  # Save the processed string features into section corresponding lists\n",
    "  path_corpus         = process_corpus(df, 'path')\n",
    "  query_keys_corpus   = process_corpus(df, 'query_keys')\n",
    "  query_values_corpus = process_corpus(df, 'query_values')\n",
    "  cvar_keys_corpus    = process_corpus(df, 'cvar_keys')\n",
    "  cvar_values_corpus  = process_corpus(df, 'cvar_values')\n",
    "\n",
    "  # Replace the previous columns with their processed versions\n",
    "  df['path']         = path_corpus\n",
    "  df['query_keys']   = query_keys_corpus\n",
    "  df['query_values'] = query_values_corpus\n",
    "  df['cvar_keys']    = cvar_keys_corpus\n",
    "  df['cvar_values']  = cvar_values_corpus\n",
    "\n",
    "\n",
    "process_URL_string_features(df)"
   ]
  },
  {
   "cell_type": "markdown",
   "id": "tXb-9U0eXVBz",
   "metadata": {
    "id": "tXb-9U0eXVBz"
   },
   "source": [
    "Let's inspect the dataframe with the processed text to ensure correctness."
   ]
  },
  {
   "cell_type": "code",
   "execution_count": 42,
   "id": "YJg5xzdDLbib",
   "metadata": {
    "colab": {
     "base_uri": "https://localhost:8080/",
     "height": 669
    },
    "id": "YJg5xzdDLbib",
    "outputId": "d5be2fef-8298-47f9-e8aa-fbc1d4ca63c3"
   },
   "outputs": [
    {
     "data": {
      "text/html": [
       "<div>\n",
       "<style scoped>\n",
       "    .dataframe tbody tr th:only-of-type {\n",
       "        vertical-align: middle;\n",
       "    }\n",
       "\n",
       "    .dataframe tbody tr th {\n",
       "        vertical-align: top;\n",
       "    }\n",
       "\n",
       "    .dataframe thead th {\n",
       "        text-align: right;\n",
       "    }\n",
       "</style>\n",
       "<table border=\"1\" class=\"dataframe\">\n",
       "  <thead>\n",
       "    <tr style=\"text-align: right;\">\n",
       "      <th></th>\n",
       "      <th>url</th>\n",
       "      <th>prefix</th>\n",
       "      <th>category_name</th>\n",
       "      <th>path</th>\n",
       "      <th>path_count</th>\n",
       "      <th>query_keys</th>\n",
       "      <th>query_values</th>\n",
       "      <th>query_count</th>\n",
       "      <th>cvar_keys</th>\n",
       "      <th>cvar_values</th>\n",
       "      <th>cvar_count</th>\n",
       "    </tr>\n",
       "  </thead>\n",
       "  <tbody>\n",
       "    <tr>\n",
       "      <th>0</th>\n",
       "      <td>https://www.1001pneus.fr/sales/order/view/orde...</td>\n",
       "      <td>www.1001pneus.fr</td>\n",
       "      <td>other</td>\n",
       "      <td>sale order view order id</td>\n",
       "      <td>5</td>\n",
       "      <td></td>\n",
       "      <td></td>\n",
       "      <td>0</td>\n",
       "      <td>currentstor ecomm pagetyp visitorecustom visit...</td>\n",
       "      <td>french fr store view oui log b b</td>\n",
       "      <td>6</td>\n",
       "    </tr>\n",
       "    <tr>\n",
       "      <th>1</th>\n",
       "      <td>https://www.1001pneus.fr/multishipping/checkou...</td>\n",
       "      <td>www.1001pneus.fr</td>\n",
       "      <td>checkout</td>\n",
       "      <td>multiship checkout address</td>\n",
       "      <td>3</td>\n",
       "      <td></td>\n",
       "      <td></td>\n",
       "      <td>0</td>\n",
       "      <td>currentstor ecomm pagetyp visitorecustom visit...</td>\n",
       "      <td>french fr store view oui log pro grill</td>\n",
       "      <td>6</td>\n",
       "    </tr>\n",
       "    <tr>\n",
       "      <th>2</th>\n",
       "      <td>https://www.1001pneus.fr/marquage-pneu-sigles?...</td>\n",
       "      <td>www.1001pneus.fr</td>\n",
       "      <td>other</td>\n",
       "      <td>marquag pneu sigl</td>\n",
       "      <td>1</td>\n",
       "      <td></td>\n",
       "      <td></td>\n",
       "      <td>0</td>\n",
       "      <td>currentstor ecomm pagetyp visitorecustom visit...</td>\n",
       "      <td>french fr store view non log gener</td>\n",
       "      <td>6</td>\n",
       "    </tr>\n",
       "    <tr>\n",
       "      <th>3</th>\n",
       "      <td>https://www.1001pneus.fr/pneus-auto?diameter=1...</td>\n",
       "      <td>www.1001pneus.fr</td>\n",
       "      <td>search</td>\n",
       "      <td>pneu auto</td>\n",
       "      <td>1</td>\n",
       "      <td>diamet height season b width</td>\n",
       "      <td>saison</td>\n",
       "      <td>4</td>\n",
       "      <td>currentstor ecomm categori ecomm pagetyp visit...</td>\n",
       "      <td>french fr store view pneu auto univers non log...</td>\n",
       "      <td>7</td>\n",
       "    </tr>\n",
       "    <tr>\n",
       "      <th>4</th>\n",
       "      <td>https://www.1001pneus.fr/pneus-auto/marques-pn...</td>\n",
       "      <td>www.1001pneus.fr</td>\n",
       "      <td>category</td>\n",
       "      <td>pneu auto marqu pneu auto michelin primaci</td>\n",
       "      <td>4</td>\n",
       "      <td>diamet height load index speed index width</td>\n",
       "      <td>w</td>\n",
       "      <td>5</td>\n",
       "      <td>currentstor ecomm categori ecomm pagetyp visit...</td>\n",
       "      <td>french fr store view pneu auto marqu auto mich...</td>\n",
       "      <td>6</td>\n",
       "    </tr>\n",
       "  </tbody>\n",
       "</table>\n",
       "</div>"
      ],
      "text/plain": [
       "                                                 url            prefix  \\\n",
       "0  https://www.1001pneus.fr/sales/order/view/orde...  www.1001pneus.fr   \n",
       "1  https://www.1001pneus.fr/multishipping/checkou...  www.1001pneus.fr   \n",
       "2  https://www.1001pneus.fr/marquage-pneu-sigles?...  www.1001pneus.fr   \n",
       "3  https://www.1001pneus.fr/pneus-auto?diameter=1...  www.1001pneus.fr   \n",
       "4  https://www.1001pneus.fr/pneus-auto/marques-pn...  www.1001pneus.fr   \n",
       "\n",
       "  category_name                                        path  path_count  \\\n",
       "0         other                    sale order view order id           5   \n",
       "1      checkout                  multiship checkout address           3   \n",
       "2         other                           marquag pneu sigl           1   \n",
       "3        search                                   pneu auto           1   \n",
       "4      category  pneu auto marqu pneu auto michelin primaci           4   \n",
       "\n",
       "                                   query_keys query_values  query_count  \\\n",
       "0                                                                     0   \n",
       "1                                                                     0   \n",
       "2                                                                     0   \n",
       "3                diamet height season b width       saison            4   \n",
       "4  diamet height load index speed index width            w            5   \n",
       "\n",
       "                                           cvar_keys  \\\n",
       "0  currentstor ecomm pagetyp visitorecustom visit...   \n",
       "1  currentstor ecomm pagetyp visitorecustom visit...   \n",
       "2  currentstor ecomm pagetyp visitorecustom visit...   \n",
       "3  currentstor ecomm categori ecomm pagetyp visit...   \n",
       "4  currentstor ecomm categori ecomm pagetyp visit...   \n",
       "\n",
       "                                         cvar_values  cvar_count  \n",
       "0                   french fr store view oui log b b           6  \n",
       "1             french fr store view oui log pro grill           6  \n",
       "2                 french fr store view non log gener           6  \n",
       "3  french fr store view pneu auto univers non log...           7  \n",
       "4  french fr store view pneu auto marqu auto mich...           6  "
      ]
     },
     "execution_count": 42,
     "metadata": {},
     "output_type": "execute_result"
    }
   ],
   "source": [
    "df.head()"
   ]
  },
  {
   "cell_type": "markdown",
   "id": "pUFvvRBYGibr",
   "metadata": {
    "id": "pUFvvRBYGibr"
   },
   "source": [
    "### Corpus Vectorization\n",
    "\n",
    "In this subsection, the goal is to vectorize the processed corpuses. For this we follow a bag-of-words approach, and over that we can add TF-IDF transformation.\n",
    "\n",
    "**CountVectorizer** simply counts the number of times a word appears in a document (bag-of-words approach), while **TF-IDF Vectorizer** takes into account not only how many times a word appears in a document but also how important that word is to the whole corpus."
   ]
  },
  {
   "cell_type": "code",
   "execution_count": 43,
   "id": "fkCYoZbmPZoj",
   "metadata": {
    "colab": {
     "base_uri": "https://localhost:8080/",
     "height": 230
    },
    "id": "fkCYoZbmPZoj",
    "outputId": "d034d837-96bf-434a-f4bd-a86cc7fc621a"
   },
   "outputs": [
    {
     "data": {
      "image/png": "[encoded data removed]",
      "text/plain": [
       "<IPython.core.display.Image object>"
      ]
     },
     "execution_count": 43,
     "metadata": {
      "image/png": {
       "width": 640
      }
     },
     "output_type": "execute_result"
    }
   ],
   "source": [
    "Image(\"tfidf1.png\" , width=640)"
   ]
  },
  {
   "cell_type": "code",
   "execution_count": 44,
   "id": "spmOmmUHWTOo",
   "metadata": {
    "colab": {
     "base_uri": "https://localhost:8080/",
     "height": 518
    },
    "id": "spmOmmUHWTOo",
    "outputId": "f67cb8a9-3d98-4286-de80-cf50c99ff313"
   },
   "outputs": [
    {
     "data": {
      "image/jpeg": "[encoded data removed]",
      "text/plain": [
       "<IPython.core.display.Image object>"
      ]
     },
     "execution_count": 44,
     "metadata": {
      "image/jpeg": {
       "width": 640
      }
     },
     "output_type": "execute_result"
    }
   ],
   "source": [
    "Image(\"tfidf2.jpg\" , width=640)"
   ]
  },
  {
   "cell_type": "markdown",
   "id": "HAKCW4XLjLwK",
   "metadata": {
    "id": "HAKCW4XLjLwK"
   },
   "source": [
    "First, we do some experimentation with the Count Vectorizer. We test it with the path text column."
   ]
  },
  {
   "cell_type": "code",
   "execution_count": 45,
   "id": "s1W2j1vSlEHP",
   "metadata": {
    "colab": {
     "base_uri": "https://localhost:8080/"
    },
    "id": "s1W2j1vSlEHP",
    "outputId": "7cc74f72-a4d0-4cc0-8c45-726f74807417"
   },
   "outputs": [
    {
     "name": "stdout",
     "output_type": "stream",
     "text": [
      "The shape of the vectorized column corpus is: (53406, 120).\n"
     ]
    }
   ],
   "source": [
    "# Basic Count Vectorizer\n",
    "cv = CountVectorizer(max_features = 120)\n",
    "\n",
    "# The custom tokenizer keeps the single character terms\n",
    "#cv = CountVectorizer(max_features = 120, tokenizer=lambda txt: txt.split())\n",
    "\n",
    "# Transform the sample string feature column to a matrix\n",
    "path_vector = cv.fit_transform(df['path']).toarray()\n",
    "\n",
    "# Get the shape of the vectorized text matrix\n",
    "print(f'The shape of the vectorized column corpus is: {path_vector.shape}.')"
   ]
  },
  {
   "cell_type": "code",
   "execution_count": 46,
   "id": "tQSu5kidHDwC",
   "metadata": {
    "colab": {
     "base_uri": "https://localhost:8080/"
    },
    "id": "tQSu5kidHDwC",
    "outputId": "b4555bde-3509-4228-a263-0fa53956e3b2"
   },
   "outputs": [
    {
     "data": {
      "text/plain": [
       "[('html', 10665),\n",
       " ('en', 8023),\n",
       " ('fr', 5327),\n",
       " ('de', 4740),\n",
       " ('us', 4361),\n",
       " ('product', 4062),\n",
       " ('shop', 3845),\n",
       " ('women', 3408),\n",
       " ('search', 2884),\n",
       " ('men', 2746),\n",
       " ('uk', 2302),\n",
       " ('checkout', 1785),\n",
       " ('gb', 1629),\n",
       " ('store', 1467),\n",
       " ('sale', 1386),\n",
       " ('order', 1221),\n",
       " ('black', 1005),\n",
       " ('cloth', 996),\n",
       " ('et', 990),\n",
       " ('watch', 976),\n",
       " ('bag', 975),\n",
       " ('ca', 917),\n",
       " ('cat', 905),\n",
       " ('nl', 874),\n",
       " ('accessori', 823),\n",
       " ('shirt', 820),\n",
       " ('aspx', 816),\n",
       " ('categori', 798),\n",
       " ('shoe', 763),\n",
       " ('new', 722)]"
      ]
     },
     "execution_count": 46,
     "metadata": {},
     "output_type": "execute_result"
    }
   ],
   "source": [
    "# Get the the list of terms sorted by frequency in descending order\n",
    "sum_words = path_vector.sum(axis=0)\n",
    "words_freq = [(word, sum_words[idx]) for word, idx in cv.vocabulary_.items()]\n",
    "words_freq =sorted(words_freq, key = lambda x: x[1], reverse=True)\n",
    "\n",
    "# Print the first 30 more common terms and their frequency\n",
    "words_freq[:30]"
   ]
  },
  {
   "cell_type": "markdown",
   "id": "W66a_yhMjZLN",
   "metadata": {
    "id": "W66a_yhMjZLN"
   },
   "source": [
    "We define a function that will create a feature matrix with all the vectorized text matrices concatenated. It is worth noticing that the cardinality or maximum number of features per each URL section bag-of-words can be tuned by changing the number associated to each section in the list of tuples. We define a maximum of 150 features per URL section for homogeneity, but we are aware that this may not be optimal. Tuning these values may be object of further experimentation."
   ]
  },
  {
   "cell_type": "code",
   "execution_count": 47,
   "id": "HA_ZheVaYsLd",
   "metadata": {
    "colab": {
     "base_uri": "https://localhost:8080/"
    },
    "id": "HA_ZheVaYsLd",
    "outputId": "2851f4e6-6775-4c8b-a6d6-e7c83a67fe5b"
   },
   "outputs": [
    {
     "data": {
      "text/plain": [
       "(53406, 750)"
      ]
     },
     "execution_count": 47,
     "metadata": {},
     "output_type": "execute_result"
    }
   ],
   "source": [
    "def vectorize_string_features(df) :\n",
    "\n",
    "  ###########################################################################################################\n",
    "  \"\"\"\n",
    "      This function receives a DataFrame containg processed URL section features and vectorizes them.\n",
    "      --\n",
    "      In:\n",
    "          * df: DataFrame containing a processed URL section features.\n",
    "      Out:\n",
    "          * string_feature_matrix - Matrix containing all the vectorized features merged.\n",
    "  \"\"\"\n",
    "  ###########################################################################################################\n",
    "\n",
    "  # Define the string features to be added to the feature matrix after vectorization and their maximum number of columns\n",
    "  #string_columns = ['path', 'query_keys', 'query_values', 'cvar_keys', 'cvar_values']\n",
    "  string_columns = [('path', 150),\n",
    "                    ('query_keys', 150),\n",
    "                    ('query_values', 150),\n",
    "                    ('cvar_keys', 150),\n",
    "                    ('cvar_values', 150)]\n",
    "\n",
    "  # Create an empty feature matrix to append vectorized features (not very optimal hack)\n",
    "  feature_matrix = np.empty((len(df), 0))\n",
    "\n",
    "  # For every string feature vectorize and append to general feature matrix\n",
    "  for col, num_features in string_columns :\n",
    "    cv = CountVectorizer(max_features = num_features, max_df=0.7)\n",
    "    #cv = CountVectorizer(max_features = 100, tokenizer=lambda txt: txt.split()) # Include single characters\n",
    "    current_feature = cv.fit_transform(df[col]).toarray()\n",
    "    # Add a TF-IDF transformation\n",
    "    tfidfconverter = TfidfTransformer()\n",
    "    current_feature = tfidfconverter.fit_transform(current_feature).toarray()\n",
    "    feature_matrix = np.append(feature_matrix, current_feature, axis=1)\n",
    "\n",
    "  return feature_matrix\n",
    "\n",
    "feature_matrix = vectorize_string_features(df)\n",
    "feature_matrix.shape"
   ]
  },
  {
   "cell_type": "markdown",
   "id": "pNfldj_ijpLZ",
   "metadata": {
    "id": "pNfldj_ijpLZ"
   },
   "source": [
    "For the numerical features matrix, we just select the numerical columns directly from the DataFrame and convert them into a numpy matrix."
   ]
  },
  {
   "cell_type": "code",
   "execution_count": 48,
   "id": "OOnuktdsso9e",
   "metadata": {
    "colab": {
     "base_uri": "https://localhost:8080/"
    },
    "id": "OOnuktdsso9e",
    "outputId": "ab17d2df-2495-49a0-d229-f141a0b46867"
   },
   "outputs": [
    {
     "data": {
      "text/plain": [
       "array([[5, 0, 6],\n",
       "       [3, 0, 6],\n",
       "       [1, 0, 6],\n",
       "       ...,\n",
       "       [3, 9, 4],\n",
       "       [3, 0, 4],\n",
       "       [1, 5, 2]], dtype=int64)"
      ]
     },
     "execution_count": 48,
     "metadata": {},
     "output_type": "execute_result"
    }
   ],
   "source": [
    "numerical_features = df.select_dtypes(include='number').values\n",
    "numerical_features"
   ]
  },
  {
   "cell_type": "markdown",
   "id": "sG8_IuPfgdYV",
   "metadata": {
    "id": "sG8_IuPfgdYV"
   },
   "source": [
    "## Classification Modelling"
   ]
  },
  {
   "cell_type": "markdown",
   "id": "n3tBpR6a0I0e",
   "metadata": {
    "id": "n3tBpR6a0I0e"
   },
   "source": [
    "### Process Data for ML"
   ]
  },
  {
   "cell_type": "markdown",
   "id": "tXPWpZXcQOd_",
   "metadata": {
    "id": "tXPWpZXcQOd_"
   },
   "source": [
    "We create a feature matrix *X* and a dependent variable vector *y*."
   ]
  },
  {
   "cell_type": "code",
   "execution_count": 49,
   "id": "Jh3FAS39ONnM",
   "metadata": {
    "id": "Jh3FAS39ONnM"
   },
   "outputs": [],
   "source": [
    "# Split the Dependent Variable (y) from the Independent Variables (X)\n",
    "\n",
    "X = np.append(numerical_features, feature_matrix, axis=1) # features matrix 'X'\n",
    "y = df['category_name'].values                            # dependent variable vector 'y'"
   ]
  },
  {
   "cell_type": "code",
   "execution_count": 50,
   "id": "aoItYf4xQo3Z",
   "metadata": {
    "colab": {
     "base_uri": "https://localhost:8080/"
    },
    "id": "aoItYf4xQo3Z",
    "outputId": "ea712f1f-6c37-4b17-9772-ee52ba1332b3"
   },
   "outputs": [
    {
     "name": "stdout",
     "output_type": "stream",
     "text": [
      "The shape of X is: (53406, 753)\n",
      "\n"
     ]
    },
    {
     "data": {
      "text/plain": [
       "array([[5., 0., 6., ..., 0., 0., 0.],\n",
       "       [3., 0., 6., ..., 0., 0., 0.],\n",
       "       [1., 0., 6., ..., 0., 0., 0.],\n",
       "       [1., 4., 7., ..., 0., 0., 0.],\n",
       "       [4., 5., 6., ..., 0., 0., 0.]])"
      ]
     },
     "execution_count": 50,
     "metadata": {},
     "output_type": "execute_result"
    }
   ],
   "source": [
    "# Verify matrix 'X'\n",
    "\n",
    "print(f'The shape of X is: {X.shape}\\n')\n",
    "X[0:5,:]"
   ]
  },
  {
   "cell_type": "code",
   "execution_count": 51,
   "id": "4h4tkqxVQvIB",
   "metadata": {
    "colab": {
     "base_uri": "https://localhost:8080/"
    },
    "id": "4h4tkqxVQvIB",
    "outputId": "949ca7b2-04e9-464c-c293-82b5dee24764"
   },
   "outputs": [
    {
     "name": "stdout",
     "output_type": "stream",
     "text": [
      "The shape of y is: (53406,)\n",
      "\n"
     ]
    },
    {
     "data": {
      "text/plain": [
       "array(['other', 'checkout', 'other', 'search', 'category', 'category',\n",
       "       'product', 'category', 'category', 'product'], dtype=object)"
      ]
     },
     "execution_count": 51,
     "metadata": {},
     "output_type": "execute_result"
    }
   ],
   "source": [
    "# Verify vector 'y'\n",
    "\n",
    "print(f'The shape of y is: {y.shape}\\n')\n",
    "y[0:10]"
   ]
  },
  {
   "cell_type": "markdown",
   "id": "fv2Qyu6I2flu",
   "metadata": {
    "id": "fv2Qyu6I2flu"
   },
   "source": [
    "We Label Encode the Dependent Variable."
   ]
  },
  {
   "cell_type": "code",
   "execution_count": 52,
   "id": "I9etVmTF041n",
   "metadata": {
    "colab": {
     "base_uri": "https://localhost:8080/"
    },
    "id": "I9etVmTF041n",
    "outputId": "f25a61b5-a905-4bff-ede4-e41abdb7ef93"
   },
   "outputs": [
    {
     "name": "stdout",
     "output_type": "stream",
     "text": [
      "Encoded vector y: [12  3 12 15  2  2 14  2  2 14]\n"
     ]
    }
   ],
   "source": [
    "# Create an instance of the Label Encoder class\n",
    "le = LabelEncoder()\n",
    "\n",
    "# Label encode the dependent variable\n",
    "y = le.fit_transform(y)\n",
    "print(f'Encoded vector y: {y[0:10]}')"
   ]
  },
  {
   "cell_type": "markdown",
   "id": "6_-f3ONOIaGr",
   "metadata": {
    "id": "6_-f3ONOIaGr"
   },
   "source": [
    "We check the label encoding matchings."
   ]
  },
  {
   "cell_type": "code",
   "execution_count": 53,
   "id": "vYvf70G5FHo8",
   "metadata": {
    "colab": {
     "base_uri": "https://localhost:8080/"
    },
    "id": "vYvf70G5FHo8",
    "outputId": "026cf6b8-a467-445c-8d80-4ebb2fc26b85"
   },
   "outputs": [
    {
     "data": {
      "text/plain": [
       "{'brand_image': 0,\n",
       " 'cart': 1,\n",
       " 'category': 2,\n",
       " 'checkout': 3,\n",
       " 'confirmation': 4,\n",
       " 'favorites_wishlist': 5,\n",
       " 'form': 6,\n",
       " 'hah? something went wrong!!': 7,\n",
       " 'help_support': 8,\n",
       " 'home': 9,\n",
       " 'information_legals': 10,\n",
       " 'my_account': 11,\n",
       " 'other': 12,\n",
       " 'press_news': 13,\n",
       " 'product': 14,\n",
       " 'search': 15,\n",
       " 'store_locator': 16}"
      ]
     },
     "execution_count": 53,
     "metadata": {},
     "output_type": "execute_result"
    }
   ],
   "source": [
    "# Get the ordered list of classes according to encodings\n",
    "page_classes = le.classes_\n",
    "\n",
    "# Create a dictionary to see the label encoding associations\n",
    "my_encodings = {l: i for (i, l) in enumerate(page_classes)}\n",
    "my_encodings"
   ]
  },
  {
   "cell_type": "markdown",
   "id": "W9F0gtAXZ9QM",
   "metadata": {
    "id": "W9F0gtAXZ9QM"
   },
   "source": [
    "### Split for Cross-Validation"
   ]
  },
  {
   "cell_type": "markdown",
   "id": "eSiSPdjcaGLL",
   "metadata": {
    "id": "eSiSPdjcaGLL"
   },
   "source": [
    "Split the Dataset Into the Training Test and Test Set\n",
    "\n",
    "[Train Test Split Documentation](https://scikit-learn.org/stable/modules/generated/sklearn.model_selection.train_test_split.html)\n",
    "\n",
    "The Train-Test split follows a stratified approach.\n",
    "\n",
    "*Stratified train-test split* is a technique used in machine learning to split a dataset into training and testing sets while maintaining the same class distribution or proportion of classes in both sets. This is particularly useful when dealing with imbalanced datasets, where the distribution of classes is unequal.\n",
    "\n",
    "The stratified train-test split ensures that each class is represented in both the training and testing sets in roughly the same proportion as the original dataset. This helps to ensure that the model is trained and evaluated on representative samples from each class, which can lead to more reliable performance evaluation.\n",
    "\n",
    "The process of performing a stratified train-test split involves the following steps:\n",
    "\n",
    "1. Identify the feature column that represents the class labels or target variable.\n",
    "2. Use the train_test_split function from the scikit-learn library with the parameter `stratify` set to the class labels column.\n",
    "3. Specify the desired test set size or the proportion of the dataset to be allocated for testing."
   ]
  },
  {
   "cell_type": "code",
   "execution_count": 54,
   "id": "J_v5zB8XAyZI",
   "metadata": {
    "id": "J_v5zB8XAyZI"
   },
   "outputs": [],
   "source": [
    "# Perform a stratified split\n",
    "X_train, X_test, y_train, y_test = train_test_split(X, y, test_size = 0.2, random_state = 1, stratify=y)"
   ]
  },
  {
   "cell_type": "markdown",
   "id": "dmvdDRtt59vg",
   "metadata": {
    "id": "dmvdDRtt59vg"
   },
   "source": [
    "### Feature Scaling\n",
    "\n",
    "We apply feature scaling to the section count features.\n",
    "\n",
    "(At the end we only used tree-based algorithms which are quite insensitive to feature scaling, so this section may not be needed. I leave it here in case further testing is done with a gradient descent or distance based algorithm.)"
   ]
  },
  {
   "cell_type": "code",
   "execution_count": 55,
   "id": "K9MEyA_b9Cmg",
   "metadata": {
    "id": "K9MEyA_b9Cmg"
   },
   "outputs": [],
   "source": [
    "# Create an instance of the StandardScaler class\n",
    "sc = StandardScaler()"
   ]
  },
  {
   "cell_type": "code",
   "execution_count": 56,
   "id": "wcGHReCF-SNw",
   "metadata": {
    "colab": {
     "base_uri": "https://localhost:8080/"
    },
    "id": "wcGHReCF-SNw",
    "outputId": "5c0af99f-dcc9-41f0-c6d2-f12870e7fcf7"
   },
   "outputs": [
    {
     "data": {
      "text/plain": [
       "array([[3., 0., 6.],\n",
       "       [1., 0., 4.],\n",
       "       [1., 2., 2.],\n",
       "       [6., 0., 4.],\n",
       "       [4., 2., 9.]])"
      ]
     },
     "execution_count": 56,
     "metadata": {},
     "output_type": "execute_result"
    }
   ],
   "source": [
    "# Check first 5 rows of non-scaled section count features\n",
    "X_train[:5, :3]"
   ]
  },
  {
   "cell_type": "code",
   "execution_count": 57,
   "id": "iNinQ0Et6EcQ",
   "metadata": {
    "id": "iNinQ0Et6EcQ"
   },
   "outputs": [],
   "source": [
    "# Apply Feature Scaling to all the section count features\n",
    "\n",
    "# Just fit the training set since we don´t want the test set to be calculated in the mean and std dev\n",
    "X_train[:, :3] = sc.fit_transform(X_train[:, :3])\n",
    "X_test[:, :3] = sc.transform(X_test[:, :3])"
   ]
  },
  {
   "cell_type": "code",
   "execution_count": 58,
   "id": "fTptfpt46Ej4",
   "metadata": {
    "colab": {
     "base_uri": "https://localhost:8080/"
    },
    "id": "fTptfpt46Ej4",
    "outputId": "3020343e-61ff-4489-f9e6-33f1989454b3"
   },
   "outputs": [
    {
     "data": {
      "text/plain": [
       "array([[ 0.1187071 , -0.65257275,  0.32008773],\n",
       "       [-1.05992226, -0.65257275, -0.2477344 ],\n",
       "       [-1.05992226,  0.01999246, -0.81555654],\n",
       "       [ 1.88665113, -0.65257275, -0.2477344 ],\n",
       "       [ 0.70802178,  0.01999246,  1.17182093]])"
      ]
     },
     "execution_count": 58,
     "metadata": {},
     "output_type": "execute_result"
    }
   ],
   "source": [
    "# Verify first 5 rows of scaled section count featuresof the training set\n",
    "X_train[:5, :3]"
   ]
  },
  {
   "cell_type": "code",
   "execution_count": 59,
   "id": "trSpkatR_Kd5",
   "metadata": {
    "colab": {
     "base_uri": "https://localhost:8080/"
    },
    "id": "trSpkatR_Kd5",
    "outputId": "17c46569-13ab-4a1f-a1d6-322ac111662e"
   },
   "outputs": [
    {
     "data": {
      "text/plain": [
       "array([[-1.05992226, -0.31629015, -0.81555654],\n",
       "       [-0.47060758,  0.35627507, -1.0994676 ],\n",
       "       [ 0.1187071 , -0.65257275,  0.6039988 ],\n",
       "       [-0.47060758, -0.31629015,  0.03617667],\n",
       "       [-0.47060758,  2.0376881 ,  0.03617667]])"
      ]
     },
     "execution_count": 59,
     "metadata": {},
     "output_type": "execute_result"
    }
   ],
   "source": [
    "# Verify first 5 rows of scaled section count features of the test set\n",
    "X_test[:5, :3]"
   ]
  },
  {
   "cell_type": "markdown",
   "id": "ntAhchuwKYnr",
   "metadata": {
    "id": "ntAhchuwKYnr"
   },
   "source": [
    "### Pre-modeling Analysis"
   ]
  },
  {
   "cell_type": "markdown",
   "id": "WSy53119IocG",
   "metadata": {
    "id": "WSy53119IocG"
   },
   "source": [
    "We check the final dimensions of the feature matrix that will be used for training."
   ]
  },
  {
   "cell_type": "code",
   "execution_count": 60,
   "id": "iB3raSc9D4GM",
   "metadata": {
    "colab": {
     "base_uri": "https://localhost:8080/"
    },
    "id": "iB3raSc9D4GM",
    "outputId": "fd6a7823-483e-4a61-8da2-5537c337acea"
   },
   "outputs": [
    {
     "name": "stdout",
     "output_type": "stream",
     "text": [
      "The fully encoded feature matrix has 753 features and 42724 instances.\n"
     ]
    }
   ],
   "source": [
    "# Get the shape of the fully encoded matrix\n",
    "print(f'The fully encoded feature matrix has {X_train.shape[1]} features and {X_train.shape[0]} instances.')"
   ]
  },
  {
   "cell_type": "markdown",
   "id": "V5EIackCBMDG",
   "metadata": {
    "id": "V5EIackCBMDG"
   },
   "source": [
    "The feature matrices used for predictive analysis look as the following."
   ]
  },
  {
   "cell_type": "code",
   "execution_count": 61,
   "id": "LjbBmnLmArNp",
   "metadata": {
    "colab": {
     "base_uri": "https://localhost:8080/"
    },
    "id": "LjbBmnLmArNp",
    "outputId": "a158cba8-7cb9-4dae-b0d5-2eea46978ca9"
   },
   "outputs": [
    {
     "data": {
      "text/plain": [
       "array([[ 0.1187071 , -0.65257275,  0.32008773, ...,  0.        ,\n",
       "         0.        ,  0.        ],\n",
       "       [-1.05992226, -0.65257275, -0.2477344 , ...,  0.        ,\n",
       "         0.        ,  0.        ],\n",
       "       [-1.05992226,  0.01999246, -0.81555654, ...,  0.        ,\n",
       "         0.        ,  0.        ]])"
      ]
     },
     "execution_count": 61,
     "metadata": {},
     "output_type": "execute_result"
    }
   ],
   "source": [
    "# Print the first 3 rows of the training set feature matrix\n",
    "X_train[0:3,:]"
   ]
  },
  {
   "cell_type": "code",
   "execution_count": 62,
   "id": "nTBdH4fqBCO5",
   "metadata": {
    "colab": {
     "base_uri": "https://localhost:8080/"
    },
    "id": "nTBdH4fqBCO5",
    "outputId": "6ca92e18-4a62-499a-c21b-d384542e4123"
   },
   "outputs": [
    {
     "data": {
      "text/plain": [
       "array([[-1.05992226, -0.31629015, -0.81555654, ...,  0.        ,\n",
       "         0.        ,  0.        ],\n",
       "       [-0.47060758,  0.35627507, -1.0994676 , ...,  0.        ,\n",
       "         0.        ,  0.        ],\n",
       "       [ 0.1187071 , -0.65257275,  0.6039988 , ...,  0.        ,\n",
       "         0.        ,  0.        ]])"
      ]
     },
     "execution_count": 62,
     "metadata": {},
     "output_type": "execute_result"
    }
   ],
   "source": [
    "# Print the first 3 rows of the test set feature matrix\n",
    "X_test[0:3,:]"
   ]
  },
  {
   "cell_type": "markdown",
   "id": "SGmwmvBI4iWX",
   "metadata": {
    "id": "SGmwmvBI4iWX"
   },
   "source": [
    "Given the final fully processed feature matrix with the dimensions stated above, we can proceed to do predictive analysis in the next section."
   ]
  },
  {
   "cell_type": "markdown",
   "id": "5UluDYhXFSVg",
   "metadata": {
    "id": "5UluDYhXFSVg"
   },
   "source": [
    "Before modelling, an auxiliary function is defined to print more efficiently some significant performance metrics for the classification task.\n",
    "\n",
    "[Classification Metrics Documentation](https://towardsdatascience.com/micro-macro-weighted-averages-of-f1-score-clearly-explained-b603420b292f#989c)"
   ]
  },
  {
   "cell_type": "code",
   "execution_count": 63,
   "id": "gB5BMrLNy82q",
   "metadata": {
    "id": "gB5BMrLNy82q"
   },
   "outputs": [],
   "source": [
    "###########################################################################################################\n",
    "\"\"\"\n",
    "    This function prints a summary of relevant performance metrics for the challenge's classification task.\n",
    "    --\n",
    "    In:\n",
    "        * y_test: Dependent variable labels for the test set.\n",
    "        * y_pred: Predicted values for the dependent variables.\n",
    "    Out:\n",
    "        * void\n",
    "\"\"\"\n",
    "###########################################################################################################\n",
    "\n",
    "def evaluate_classifier(y_test, y_pred) :\n",
    "\n",
    "  # Set display names to match the predicted variable 'category_name' labels\n",
    "  target_names = page_classes\n",
    "\n",
    "  # Print a Classification report with several relevant metric scores per label\n",
    "  print('Performance metrics summary:\\n')\n",
    "  print(classification_report(y_test, y_pred, target_names=target_names, digits=3))\n",
    "\n",
    "  # Display the Confusion Matrix\n",
    "  print('Confusion Matrix:\\n')\n",
    "  ConfusionMatrixDisplay.from_predictions(y_test, y_pred, display_labels=target_names)\n",
    "  plt.show()"
   ]
  },
  {
   "cell_type": "markdown",
   "id": "ZWPeQv4Q-ipB",
   "metadata": {
    "id": "ZWPeQv4Q-ipB"
   },
   "source": [
    "### Tree-Based Predictors"
   ]
  },
  {
   "cell_type": "markdown",
   "id": "ssHHNk9W-nvG",
   "metadata": {
    "id": "ssHHNk9W-nvG"
   },
   "source": [
    "In this subsection we will test first a Decision Tree as a base learner model.\n",
    "\n",
    "Afterwards, an ensemble method based on the base learner will be evaluated to check for improvements in performance.\n",
    "\n",
    "These predictors (baseline and ensemble) were chosen since they can help when dealing with an imbalanced predicted class.\n",
    "\n",
    "* In Decision Trees you can set the `class_weight` parameter to give more weight to the minority classes.\n",
    "* In Random Forest you can also set the `class_weight` parameter to give more weight to the minority classes."
   ]
  },
  {
   "cell_type": "markdown",
   "id": "bpKiFBzyEAXl",
   "metadata": {
    "id": "bpKiFBzyEAXl"
   },
   "source": [
    "#### Decision Tree Classifier\n",
    "\n",
    "[Decision Tree Classifier Documentation](https://scikit-learn.org/stable/modules/generated/sklearn.tree.DecisionTreeClassifier.html)"
   ]
  },
  {
   "cell_type": "markdown",
   "id": "ivz_58k2EcBx",
   "metadata": {
    "id": "ivz_58k2EcBx"
   },
   "source": [
    "Grid search parameter experimentation. (Commented after finding best results)"
   ]
  },
  {
   "cell_type": "code",
   "execution_count": 64,
   "id": "AtS5tYGECXgW",
   "metadata": {
    "id": "AtS5tYGECXgW"
   },
   "outputs": [],
   "source": [
    "# # Create a Decision Tree Classifier\n",
    "# dt_classifier = DecisionTreeClassifier(random_state = 0)\n",
    "\n",
    "# # Define a parameter grid for the grid search\n",
    "# dt_param_grid = {\n",
    "#     'criterion': [\"gini\", \"entropy\"],\n",
    "#     'max_features':[\"sqrt\", \"log2\", None],\n",
    "#     'class_weight': [\"balanced\", None]}\n",
    "\n",
    "# # Perform grid search\n",
    "# dt_grid_search = GridSearchCV(estimator=dt_classifier, param_grid=dt_param_grid, cv=5)\n",
    "# dt_grid_search.fit(X_train, y_train)\n",
    "# print(f'Best parameters found:\\n{dt_grid_search.best_params_}\\n')\n",
    "\n",
    "# # Predict 'y'\n",
    "# y_pred = dt_grid_search.predict(X_test)\n",
    "\n",
    "# # Evaluate its performance\n",
    "# evaluate_classifier(y_test, y_pred)"
   ]
  },
  {
   "cell_type": "markdown",
   "id": "wci_-H1HENR0",
   "metadata": {
    "id": "wci_-H1HENR0"
   },
   "source": [
    "After the grid search, the best parameters found are:\n",
    "\n",
    "`{'class_weight': None, 'criterion': 'gini', 'max_features': None}`\n",
    "\n",
    "So now we train directly a single ensemble model with the best found parameters."
   ]
  },
  {
   "cell_type": "code",
   "execution_count": 65,
   "id": "UZP3OeVUAogt",
   "metadata": {
    "colab": {
     "base_uri": "https://localhost:8080/",
     "height": 965
    },
    "id": "UZP3OeVUAogt",
    "outputId": "fc58f47d-053d-440a-b5dd-4dc2f7abf918"
   },
   "outputs": [
    {
     "name": "stdout",
     "output_type": "stream",
     "text": [
      "Performance metrics summary:\n",
      "\n",
      "                             precision    recall  f1-score   support\n",
      "\n",
      "                brand_image      0.810     0.736     0.771        87\n",
      "                       cart      0.896     0.920     0.908       348\n",
      "                   category      0.946     0.954     0.950      2793\n",
      "                   checkout      0.921     0.911     0.916       372\n",
      "               confirmation      0.923     0.966     0.944       149\n",
      "         favorites_wishlist      0.767     0.885     0.821        26\n",
      "                       form      0.731     0.543     0.623        35\n",
      "hah? something went wrong!!      0.000     0.000     0.000        54\n",
      "               help_support      0.919     0.798     0.854       114\n",
      "                       home      0.965     0.957     0.961       740\n",
      "         information_legals      0.543     0.521     0.532        48\n",
      "                 my_account      0.859     0.880     0.869       382\n",
      "                      other      0.721     0.682     0.701       390\n",
      "                 press_news      0.692     0.486     0.571        37\n",
      "                    product      0.966     0.977     0.971      4105\n",
      "                     search      0.977     0.976     0.976       905\n",
      "              store_locator      0.902     0.856     0.878        97\n",
      "\n",
      "                   accuracy                          0.935     10682\n",
      "                  macro avg      0.796     0.767     0.779     10682\n",
      "               weighted avg      0.933     0.935     0.934     10682\n",
      "\n",
      "Confusion Matrix:\n",
      "\n"
     ]
    },
    {
     "data": {
      "image/png": "[encoded data removed]",
      "text/plain": [
       "<Figure size 640x480 with 2 Axes>"
      ]
     },
     "metadata": {},
     "output_type": "display_data"
    }
   ],
   "source": [
    "# Create a Decision Tree Classifier, fit the training data and predict 'y'\n",
    "dt_classifier = DecisionTreeClassifier(criterion = 'gini', random_state = 0)\n",
    "dt_classifier.fit(X_train, y_train)\n",
    "y_pred = dt_classifier.predict(X_test)\n",
    "\n",
    "# Evaluate its performance\n",
    "evaluate_classifier(y_test, y_pred)"
   ]
  },
  {
   "cell_type": "markdown",
   "id": "6rhLIH8dDzcd",
   "metadata": {
    "id": "6rhLIH8dDzcd"
   },
   "source": [
    "#### Random Forest Classifier\n",
    "\n",
    "[Random Forest Classifier Documentation](https://scikit-learn.org/stable/modules/generated/sklearn.ensemble.RandomForestClassifier.html)"
   ]
  },
  {
   "cell_type": "markdown",
   "id": "u-Rb2yY8_zxE",
   "metadata": {
    "id": "u-Rb2yY8_zxE"
   },
   "source": [
    "Grid search parameter experimentation. (Commented after finding best results)"
   ]
  },
  {
   "cell_type": "code",
   "execution_count": 66,
   "id": "-BvDjJmJGB_j",
   "metadata": {
    "id": "-BvDjJmJGB_j"
   },
   "outputs": [],
   "source": [
    "# # Create a Random Forest Classifier\n",
    "# rf_classifier = RandomForestClassifier(criterion = 'entropy', random_state = 0)\n",
    "\n",
    "# # Define a parameter grid for the grid search\n",
    "# rf_param_grid = {\n",
    "#     'n_estimators': [30, 50, 90, 120, 150],\n",
    "#     #'max_depth' : [5, 10, 15, None],\n",
    "#     #'max_features':[\"sqrt\", \"log2\"],\n",
    "#     'criterion': [\"gini\", \"entropy\"],\n",
    "#     'class_weight': [None, \"balanced\", \"balanced_subsample\"]}\n",
    "\n",
    "# # Perform grid search\n",
    "# rf_grid_search = GridSearchCV(estimator=rf_classifier, param_grid=rf_param_grid, cv=5)\n",
    "# rf_grid_search.fit(X_train, y_train)\n",
    "# print(f'Best parameters found:\\n{rf_grid_search.best_params_}\\n')\n",
    "\n",
    "# # Predict 'y'\n",
    "# y_pred = rf_grid_search.predict(X_test)\n",
    "\n",
    "# # Evaluate its performance\n",
    "# evaluate_classifier(y_test, y_pred)"
   ]
  },
  {
   "cell_type": "markdown",
   "id": "GtSngrUb_8fo",
   "metadata": {
    "id": "GtSngrUb_8fo"
   },
   "source": [
    "After the grid search, the best parameters found are:\n",
    "\n",
    "`{'class_weight': None, 'criterion': 'gini', 'n_estimators': 120}`\n",
    "\n",
    "So now we train directly a single ensemble model with the best found parameters."
   ]
  },
  {
   "cell_type": "code",
   "execution_count": 67,
   "id": "Z38LunxM_pDX",
   "metadata": {
    "colab": {
     "base_uri": "https://localhost:8080/",
     "height": 961
    },
    "id": "Z38LunxM_pDX",
    "outputId": "131c8e54-6043-433a-9dcf-6a4faf9708f3"
   },
   "outputs": [
    {
     "name": "stdout",
     "output_type": "stream",
     "text": [
      "Performance metrics summary:\n",
      "\n",
      "                             precision    recall  f1-score   support\n",
      "\n",
      "                brand_image      0.867     0.747     0.802        87\n",
      "                       cart      0.929     0.905     0.917       348\n",
      "                   category      0.945     0.966     0.956      2793\n",
      "                   checkout      0.934     0.952     0.943       372\n",
      "               confirmation      0.960     0.973     0.967       149\n",
      "         favorites_wishlist      0.889     0.923     0.906        26\n",
      "                       form      0.947     0.514     0.667        35\n",
      "hah? something went wrong!!      0.000     0.000     0.000        54\n",
      "               help_support      0.913     0.825     0.866       114\n",
      "                       home      0.965     0.964     0.964       740\n",
      "         information_legals      0.765     0.542     0.634        48\n",
      "                 my_account      0.902     0.911     0.906       382\n",
      "                      other      0.775     0.679     0.724       390\n",
      "                 press_news      0.950     0.514     0.667        37\n",
      "                    product      0.967     0.989     0.978      4105\n",
      "                     search      0.976     0.979     0.977       905\n",
      "              store_locator      0.923     0.866     0.894        97\n",
      "\n",
      "                   accuracy                          0.947     10682\n",
      "                  macro avg      0.859     0.779     0.810     10682\n",
      "               weighted avg      0.942     0.947     0.944     10682\n",
      "\n",
      "Confusion Matrix:\n",
      "\n"
     ]
    },
    {
     "data": {
      "image/png": "[encoded data removed]",
      "text/plain": [
       "<Figure size 640x480 with 2 Axes>"
      ]
     },
     "metadata": {},
     "output_type": "display_data"
    }
   ],
   "source": [
    "# Create a Random Forest Classifier, fit the training data and predict 'y'\n",
    "rf_classifier = RandomForestClassifier(n_estimators = 120, criterion = 'gini', random_state = 0) # 50 for 100 feature per section\n",
    "rf_classifier.fit(X_train, y_train)\n",
    "y_pred = rf_classifier.predict(X_test)\n",
    "\n",
    "# Evaluate its performance\n",
    "evaluate_classifier(y_test, y_pred)"
   ]
  },
  {
   "cell_type": "markdown",
   "id": "-MAfC64DqfT5",
   "metadata": {
    "id": "-MAfC64DqfT5"
   },
   "source": [
    "The best performant model yields a **macro average F1-score** of **81%** and a **weighted average F1-score** of **94.4%**. Its **accuracy** is of **94.7%**, however it is important to consider that accuracy is a extremely unrealible metric in this case where the dependent variable classes are very unbalanced. Overall, the results seem quite decent considering we are only modelling with one base predictor and the tuning and data preprocessing could be much more delicate and better reviewed given more development time.\n",
    "\n",
    "The model shows poor performance (all ≈65% F1-score) for the *form*, *legal information* and *press news* categories. This could probably be explained given the fact that these are some of the features with lowest support. Although, not the lowest one since surprisingly the *favorites wishlist* category can reach 90.6% F1-score while being the less sampled category.\n",
    "\n",
    "However, the worst performant category is the *error* category by far, being unable to predict correctly even a single instance. The model rarely predicts an instance as an *error*, but when it does, it results to be mostly the *category* label (*home* and *product* categories in a minor degree). Further study could turn this case (since we are dealing with an error label) into an anomaly detection study, where looking for abnormal path level counts peak could be a starting point.\n",
    "\n",
    "Finally, the most significant cases of mispredictions are the ones associated with the *other* category. A relevant amount of *category* and *product* classes are wrongly predicted to be *other*. Also, there is a considerable amount of *category* instances wrongly predicted as *product*. Misclassifications between *product* and *category* seem to be common overall."
   ]
  },
  {
   "cell_type": "markdown",
   "id": "L1o5yDZIlEAP",
   "metadata": {
    "id": "L1o5yDZIlEAP"
   },
   "source": [
    "## Concluding Remarks"
   ]
  },
  {
   "cell_type": "markdown",
   "id": "jISHOS6EvXp_",
   "metadata": {
    "id": "jISHOS6EvXp_"
   },
   "source": [
    "In this challenge the goal was to solve a multiclass classification problem. The training dataset consisted of web page URLs with associated page category labels.\n",
    "\n",
    "Engineered features consisted of 2 main groups:\n",
    "\n",
    "1. URL section parameters count.\n",
    "2. URL section vectorized parameters using a bag of words approach and a TF-IDF transformation.\n",
    "\n",
    "The data transformation pipeline also used general data preprocessing approaches such as deletion of duplicated instances and handling missing values (completion upon a URL column information in the case of missing prefixes and deletion otherwise).\n",
    "\n",
    "The ML algortihm section aimed to iterate on a single type of predictor due to development time constraints. The chosen predictor was a Decision Tree model as base learner in addition to a bagging ensemble method in the form of a Random forest classifier.\n",
    "\n",
    "Techniques for handling unbalanced datasets such as stratified train/test split and class weighting were evaluated.\n",
    "\n",
    "The best performant model was a Random Forest Classifier with 120 estimators and gini impurity criterion. Class weighting did not seem to improve the model performance. Its **macro average F1-score** was of **81%**. Its accuracy was of 94.7%, however it is important to consider that accuracy is a extremely unrealible metric in this case where the dependent variable classes are very unbalanced.\n",
    "\n",
    "Further work on this classification approach may include more advanced imbalanced classes handling techniques, such as undersampling, oversampling (SMOTE) or generation of synthetic samples and testing more models, such as ensemble methods with other base learners and neural network classifiers along with more robust and extensive hyperparameter tuning processes. Also the evaluation of lemmatization and the usage of user defined vocabularies for the bag-of-words rather than using term frequency could be explored for the text processing.\n"
   ]
  }
 ],
 "metadata": {
  "colab": {
   "provenance": [],
   "toc_visible": true
  },
  "kernelspec": {
   "display_name": "Python 3 (ipykernel)",
   "language": "python",
   "name": "python3"
  },
  "language_info": {
   "codemirror_mode": {
    "name": "ipython",
    "version": 3
   },
   "file_extension": ".py",
   "mimetype": "text/x-python",
   "name": "python",
   "nbconvert_exporter": "python",
   "pygments_lexer": "ipython3",
   "version": "3.7.0"
  }
 },
 "nbformat": 4,
 "nbformat_minor": 5
}
